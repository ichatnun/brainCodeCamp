{
 "cells": [
  {
   "cell_type": "markdown",
   "metadata": {},
   "source": [
    "# Introduction to Pytorch\n",
    "\n",
    "Pytorch อีกหนึ่งไลบรารี่มีมีความสำคัญมากๆของการสร้างโมเดล Neural network หรือ Deep learning ในปัจจุบัน Pytorch ถูกนำมาใช้ในหลากหลายงานวิจัยทั้งด้านกระประมวลผลภาษาธรรมชาติ (Natural language processing) และ Computer vision\n",
    "\n",
    "Pytorch ถูกพัฒนาจากทีม Facebook's AI research (FAIR) และถูกนำมาประยุกต์ใช้ทั้งฝั่งวิชาการและฝั่งอุตสาหกรรม โดยมีข้อคือใช้งานได้ง่าย ปรับแต่งได้ง่าย และไม่ซับซ้อน\n",
    "\n",
    "Pytorch มีลักษณะการใช้คล้ายคลึงกับ NumPy มากแต่ว่าใช้ tensor เป็นตัวกลางในการเก็บข้อมูล โดยข้อดีเพิ่มเติมคือ torch สามารถย้ายข้อมูล tensor ไปประมวลผลใน GPU ได้ และยังเปลี่ยนเป็น numpy array ได้อีกด้วย\n",
    "\n",
    "ใน Notebook นี้เราจะไปรู้จักกับพื้นฐานของ Pytorch เพื่อให้เห็นภาพการใช้งานเบื้องต้น"
   ]
  },
  {
   "cell_type": "code",
   "execution_count": null,
   "metadata": {},
   "outputs": [],
   "source": [
    "import torch\n",
    "\n",
    "torch.cuda.is_available()  # ตรวจสอบว่ามี GPU และ CUDA หรือไม่"
   ]
  },
  {
   "cell_type": "markdown",
   "metadata": {},
   "source": [
    "## Basic torch\n",
    "\n",
    "เราสามารถสร้าง tensor ซึ่งเป็นตัวกลางเก็บข้อมูลหลักของ Pytorch ได้หลากหลายวิธี วิธีที่สะดวกที่สุดคือ `torch.tensor` แต่นอกจากนั้นยังสร้าง tensor ได้ด้วยวิธีอื่นๆ เช่น `torch.range`, `torch.zeros`, หรือ `torch.ones`"
   ]
  },
  {
   "cell_type": "code",
   "execution_count": null,
   "metadata": {},
   "outputs": [],
   "source": [
    "a = torch.tensor([1., 2., 3.])\n",
    "\n",
    "print(a)\n",
    "print(len(a))\n",
    "print(a.shape)"
   ]
  },
  {
   "cell_type": "code",
   "execution_count": null,
   "metadata": {},
   "outputs": [],
   "source": [
    "Z = torch.zeros(3, 3)\n",
    "print(Z)\n",
    "\n",
    "O = torch.ones(3, 4)\n",
    "print(O)"
   ]
  },
  {
   "cell_type": "code",
   "execution_count": null,
   "metadata": {},
   "outputs": [],
   "source": [
    "a_r = torch.arange(0, 1, 0.2)\n",
    "\n",
    "print(a_r)\n",
    "print(len(a_r))"
   ]
  },
  {
   "cell_type": "markdown",
   "metadata": {},
   "source": [
    "## Operations\n",
    "\n",
    "เมื่อสร้าง tensor ขึ้นมาแล้วจะสามารถปฏิบัติการกับ tensor ที่สร้างขึ้นได้ เช่น การบวก ลบ คูณเมทริกซ์ และวิธีอื่นๆอีกมากมาย เช่น การเชื่อม tensor การแปลง dimension"
   ]
  },
  {
   "cell_type": "code",
   "execution_count": null,
   "metadata": {},
   "outputs": [],
   "source": [
    "A = torch.tensor([[1., 3.], [4., -4.]])\n",
    "B = torch.tensor([[2., 7.], [-4., -2.]])\n",
    "\n",
    "print(A + B)  #  บวกตามตำแหน่ง (element-wise plus)\n",
    "print(A - B)  #  ลบตามตำแหน่ง\n",
    "print(A * B)  #  คูณค่าตามตำแหน่ง\n",
    "print(A / B)  #  หารค่าตามตำแหน่ง"
   ]
  },
  {
   "cell_type": "code",
   "execution_count": null,
   "metadata": {},
   "outputs": [],
   "source": [
    "print(A.mm(B))  # matrix multiplication, torch.mm(A, B)"
   ]
  },
  {
   "cell_type": "markdown",
   "metadata": {},
   "source": [
    "นอกจากนั้น `torch` ยังมี engine ที่ชื่อว่า Autograd ที่สามารถทำให้เราหา gradient ของฟังก์ชันจากตัวแปรที่กำหนดได้ ยกตัวอย่างเช่นถ้าเรามี $x = 1$ แล้วต้องการหา $df / dx$ ของฟังก์ชั่น $f(x) = x^2 - 10 x + 5$ จะสามารถเขียนด้วย Pytorch ได้ดังนี้:"
   ]
  },
  {
   "cell_type": "code",
   "execution_count": null,
   "metadata": {},
   "outputs": [],
   "source": [
    "x = torch.tensor(1., requires_grad=True)\n",
    "f = x ** 2 - 10 * x + 5\n",
    "f.backward()\n",
    "x.grad  # เท่ากับ f'(1) =  2(1) - 10 = -8"
   ]
  },
  {
   "cell_type": "code",
   "execution_count": null,
   "metadata": {},
   "outputs": [],
   "source": []
  }
 ],
 "metadata": {
  "kernelspec": {
   "display_name": "Python 3 (ipykernel)",
   "language": "python",
   "name": "python3"
  },
  "language_info": {
   "codemirror_mode": {
    "name": "ipython",
    "version": 3
   },
   "file_extension": ".py",
   "mimetype": "text/x-python",
   "name": "python",
   "nbconvert_exporter": "python",
   "pygments_lexer": "ipython3",
   "version": "3.7.13"
  }
 },
 "nbformat": 4,
 "nbformat_minor": 2
}
