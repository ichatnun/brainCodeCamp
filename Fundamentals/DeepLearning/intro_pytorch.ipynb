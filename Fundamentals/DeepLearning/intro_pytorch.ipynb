{
 "cells": [
  {
   "attachments": {},
   "cell_type": "markdown",
   "metadata": {},
   "source": [
    "# Introduction to Pytorch\n",
    "\n",
    "Pytorch อีกหนึ่งไลบรารี่มีมีความสำคัญมากๆของการสร้างโมเดล Neural network หรือ Deep learning ในปัจจุบัน Pytorch ถูกนำมาใช้ในหลากหลายงานวิจัยทั้งด้านกระประมวลผลภาษาธรรมชาติ (Natural language processing) และ Computer vision\n",
    "\n",
    "Pytorch ถูกพัฒนาจากทีม Facebook's AI research (FAIR) และถูกนำมาประยุกต์ใช้ทั้งฝั่งวิชาการและฝั่งอุตสาหกรรม โดยมีข้อคือใช้งานได้ง่าย ปรับแต่งได้ง่าย และไม่ซับซ้อน\n",
    "\n",
    "Pytorch มีลักษณะการใช้คล้ายคลึงกับ NumPy มากแต่ว่าใช้ tensor เป็นตัวกลางในการเก็บข้อมูล โดยข้อดีเพิ่มเติมคือ torch สามารถย้ายข้อมูล tensor ไปประมวลผลใน GPU ได้ และยังเปลี่ยนเป็น numpy array ได้อีกด้วย\n",
    "\n",
    "ใน Notebook นี้เราจะไปรู้จักกับพื้นฐานของ Pytorch เพื่อให้เห็นภาพการใช้งานเบื้องต้น"
   ]
  },
  {
   "cell_type": "code",
   "execution_count": 3,
   "metadata": {},
   "outputs": [
    {
     "data": {
      "text/plain": [
       "True"
      ]
     },
     "execution_count": 3,
     "metadata": {},
     "output_type": "execute_result"
    }
   ],
   "source": [
    "import torch # โหลด PyTorch\n",
    "\n",
    "torch.cuda.is_available()  # ตรวจสอบว่ามี GPU และ CUDA หรือไม่"
   ]
  },
  {
   "cell_type": "markdown",
   "metadata": {},
   "source": [
    "## Basic torch\n",
    "\n",
    "เราสามารถสร้าง tensor ซึ่งเป็นตัวกลางเก็บข้อมูลหลักของ Pytorch ได้หลากหลายวิธี วิธีที่สะดวกที่สุดคือ `torch.tensor` แต่นอกจากนั้นยังสร้าง tensor ได้ด้วยวิธีอื่นๆ เช่น `torch.range`, `torch.zeros`, หรือ `torch.ones`\n",
    "\n",
    "**Note:** Tensor โดยทั่วไปในทางคณิตศาสตร์และฟิสิกส์มีความหมายแตกต่างจาก tensor ที่ใช้ใน pytorch ซึ่งหมายถึง multidimensional array ของตัวเลขเท่านั้น"
   ]
  },
  {
   "cell_type": "code",
   "execution_count": 6,
   "metadata": {},
   "outputs": [
    {
     "name": "stdout",
     "output_type": "stream",
     "text": [
      "tensor([1., 2., 3.])\n",
      "3\n",
      "torch.Size([3])\n"
     ]
    }
   ],
   "source": [
    "a = torch.tensor([1., 2., 3.]) # สร้าง Tensor 1 มิติ จาก List\n",
    "\n",
    "print(a) # แสดงผล Tensor\n",
    "print(len(a)) # แสดงจำนวนสมาชิก\n",
    "print(a.shape) # แสดงขนาดของ Tensor"
   ]
  },
  {
   "cell_type": "code",
   "execution_count": 7,
   "metadata": {},
   "outputs": [
    {
     "name": "stdout",
     "output_type": "stream",
     "text": [
      "tensor([[0., 0., 0.],\n",
      "        [0., 0., 0.],\n",
      "        [0., 0., 0.]])\n",
      "tensor([[1., 1., 1., 1.],\n",
      "        [1., 1., 1., 1.],\n",
      "        [1., 1., 1., 1.]])\n"
     ]
    }
   ],
   "source": [
    "Z = torch.zeros(3, 3) #  สร้าง tensor ขนาด 3x3 ที่มีค่าเป็น 0\n",
    "print(Z) \n",
    "\n",
    "O = torch.ones(3, 4) #  สร้าง tensor ขนาด 3x4 ที่มีค่าเป็น 1\n",
    "print(O)"
   ]
  },
  {
   "cell_type": "code",
   "execution_count": 8,
   "metadata": {},
   "outputs": [
    {
     "name": "stdout",
     "output_type": "stream",
     "text": [
      "tensor([0.0000, 0.2000, 0.4000, 0.6000, 0.8000])\n",
      "5\n"
     ]
    }
   ],
   "source": [
    "a_r = torch.arange(0, 1, 0.2) # สร้าง tensor ที่มีค่าตั้งแต่ 0 ถึง 1 โดยเพิ่มทีละ 0.2\n",
    "\n",
    "print(a_r)\n",
    "print(len(a_r))"
   ]
  },
  {
   "cell_type": "markdown",
   "metadata": {},
   "source": [
    "## Operations\n",
    "\n",
    "เมื่อสร้าง tensor ขึ้นมาแล้วจะสามารถปฏิบัติการกับ tensor ที่สร้างขึ้นได้ เช่น การบวก ลบ คูณเมทริกซ์ และวิธีอื่นๆอีกมากมาย เช่น การเชื่อม tensor การแปลง dimension"
   ]
  },
  {
   "cell_type": "code",
   "execution_count": 9,
   "metadata": {},
   "outputs": [
    {
     "name": "stdout",
     "output_type": "stream",
     "text": [
      "tensor([[ 3., 10.],\n",
      "        [ 0., -6.]])\n",
      "tensor([[-1., -4.],\n",
      "        [ 8., -2.]])\n",
      "tensor([[  2.,  21.],\n",
      "        [-16.,   8.]])\n",
      "tensor([[ 0.5000,  0.4286],\n",
      "        [-1.0000,  2.0000]])\n"
     ]
    }
   ],
   "source": [
    "# รัน cell นี้เพื่อทดสอบการดำเนินการพื้นฐานของ Tensor\n",
    "A = torch.tensor([[1., 3.], [4., -4.]]) # สร้าง tensor 2 มิติ จาก List ของ List\n",
    "B = torch.tensor([[2., 7.], [-4., -2.]]) # สร้าง tensor 2 มิติ จาก List ของ List\n",
    "\n",
    "print(A + B)  #  บวกตามตำแหน่ง (element-wise plus)\n",
    "print(A - B)  #  ลบตามตำแหน่ง\n",
    "print(A * B)  #  คูณค่าตามตำแหน่ง\n",
    "print(A / B)  #  หารค่าตามตำแหน่ง"
   ]
  },
  {
   "cell_type": "code",
   "execution_count": 10,
   "metadata": {},
   "outputs": [
    {
     "name": "stdout",
     "output_type": "stream",
     "text": [
      "tensor([[-10.,   1.],\n",
      "        [ 24.,  36.]])\n"
     ]
    }
   ],
   "source": [
    "print(A.mm(B))  # matrix multiplication(คูณเมตริกซ์), torch.mm(A, B)"
   ]
  },
  {
   "cell_type": "markdown",
   "metadata": {},
   "source": [
    "## **Autograd**\n",
    "\n",
    "นอกจากนั้น `torch` ยังมี engine ที่ชื่อว่า Autograd ที่สามารถทำให้เราหา gradient ของฟังก์ชันจากตัวแปรที่กำหนดได้ ยกตัวอย่างเช่นถ้าเรามี $x = 1$ แล้วต้องการหา $df / dx$ ของฟังก์ชั่น $f(x) = x^2 - 10 x + 5$ จะสามารถเขียนด้วย Pytorch ได้ดังนี้:"
   ]
  },
  {
   "cell_type": "code",
   "execution_count": 11,
   "metadata": {},
   "outputs": [
    {
     "data": {
      "text/plain": [
       "tensor(-8.)"
      ]
     },
     "execution_count": 11,
     "metadata": {},
     "output_type": "execute_result"
    }
   ],
   "source": [
    "x = torch.tensor(1., requires_grad=True) # สร้าง Tensor 1 มิติ และกำหนดให้คำนวณ gradient ได้\n",
    "f = x ** 2 - 10 * x + 5 # สร้างฟังก์ชัน f(x) = x^2 - 10x + 5 จาก Tensor x ที่สร้างข้างต้น\n",
    "f.backward() # f'(x) = 2x - 10 คำนวณค่า gradient ของ f(x) ที่ x = 1 และเก็บไว้ใน x.grad โดยใช้ backpropagation algorithm ที่ PyTorch มีให้\n",
    "x.grad  # เท่ากับ f'(1) = 2(1) - 10 = -8"
   ]
  },
  {
   "cell_type": "markdown",
   "metadata": {},
   "source": [
    "## **Neural Network Layers**\n",
    "\n",
    "Pytorch มี Neural network layer แบบต่างๆที่เราสามารถดึงมาใช้และประกอบร่างให้เป็น Neural network ได้ นึกภาพตามง่ายๆคือ neural network layer เสมือนเป็น building block ของ Neural Network ก็ได้ โดยเราสามารถดึงเลเยอร์ต่างๆมาใช้ได้หลากหลายประเภท เช่น `nn.Linear`, `nn.Conv2d`, ... ในการสร้าง layer ขึ้นมาพารามิเตอร์จะถูกสุ่มในตอนที่สร้าง แต่เมื่องเราเทรนโมเดลด้วยชุดข้อมูลที่ป้อนให้ neural network และทำการอัพเดทพารามิเตอร์ ค่าเหล่านี้จะถูกปรับให้ถูกใช้งาน\n",
    "\n",
    "โดยทั่วไป Pytorch จะให้ input dimension แรกของ layer เป็น batch size และขนาดของ input และ output เมื่อผ่าน layer จะขึ้นอยู่กับเลเยอร์ที่เราเลือก ยกตัวอย่างเช่น `nn.Linear(5, 3)` จะรับ input ที่มีขนาด 5 และ output ขนาด 3 ดังนั้น ถ้าเรามีข้อมูลตารางที่มี 10 แถว (batch size = 10) 5 features (columns) หรือขนาด 10 x 5 เมื่อผ่าน Linear layer ก็จะได้ขนาดออกมาเป็น 10 x 3 ตัวอย่างด้านล่างเราจะลองสร้างข้อมูลตามที่อธิบายเพื่อป้อนให้ Linear layer ที่เราสร้างขึ้น"
   ]
  },
  {
   "cell_type": "code",
   "execution_count": 8,
   "metadata": {},
   "outputs": [
    {
     "name": "stdout",
     "output_type": "stream",
     "text": [
      "tensor([[ 0.5322, -0.3053,  0.1043, -0.4919, -1.1238],\n",
      "        [ 1.0170,  0.0496, -0.2312, -0.9472, -2.2531],\n",
      "        [ 0.5595,  0.5000,  0.2074, -1.9459, -0.5302],\n",
      "        [-0.6784,  0.8662,  0.4673, -0.2919,  0.3568],\n",
      "        [-1.3785,  1.5481,  1.6534,  1.2843,  0.9978],\n",
      "        [-0.6092,  0.5994,  0.3895,  0.2247,  1.0194],\n",
      "        [ 1.1571, -0.0898, -0.6605,  1.0379,  0.9274],\n",
      "        [ 0.8768,  0.9874, -0.1047,  1.3554,  0.2071],\n",
      "        [ 0.5120, -0.5372,  1.0576,  1.5728,  0.5447],\n",
      "        [ 0.5920, -0.3496, -2.1315,  1.0193,  0.9318]])\n",
      "Shape of input =  torch.Size([10, 5])\n",
      "tensor([[-0.0368, -0.2593,  0.5598],\n",
      "        [-0.5351, -0.4155,  0.7522],\n",
      "        [-0.5084,  0.5320,  0.6902],\n",
      "        [-0.3991,  0.4646,  0.3325],\n",
      "        [-0.4004, -0.0218, -0.3860],\n",
      "        [ 0.1429,  0.5252,  0.1787],\n",
      "        [ 1.3860,  0.2824,  0.0411],\n",
      "        [ 0.5697, -0.0696, -0.1828],\n",
      "        [ 1.1702, -0.6703, -0.3447],\n",
      "        [ 1.3835,  0.8544,  0.6054]], grad_fn=<AddmmBackward0>)\n",
      "Shape of output =  torch.Size([10, 3])\n"
     ]
    }
   ],
   "source": [
    "import torch # โหลด PyTorch\n",
    "import torch.nn as nn # โหลด module ที่เกี่ยวข้องกับการสร้าง Neural Network โดย module nn จะมีคลาสที่เกี่ยวข้องกับการสร้าง layer ต่างๆ ของ Neural Network\n",
    "\n",
    "fc = nn.Linear(5, 3) # สร้าง fully-connected layer ที่มีจำนวน input = 5 และ output = 3\n",
    "x = torch.randn(10, 5) # สร้าง Tensor ขนาด 10x5 ที่มีค่าเป็นเลขสุ่ม\n",
    "print(x) # แสดง Tensor\n",
    "print(\"Shape of input = \", x.shape) # แสดงขนาดของ Tensor\n",
    "x_out = fc(x) # ส่งค่า Tensor x ที่สร้างข้างต้นผ่าน fully-connected layer ที่สร้างไว้ และเก็บผลลัพธ์ไว้ใน x_out\n",
    "print(x_out) # แสดงผลลัพธ์\n",
    "print(\"Shape of output = \", x_out.shape) # แสดงขนาดของ Tensor ที่ผ่าน layer แล้ว"
   ]
  },
  {
   "cell_type": "markdown",
   "metadata": {},
   "source": [
    "เราสามารถนำ layer ต่างๆมาประกอบร่างกันด้วยการสร้าง class `nn.Module` ได้ ยกตัวอย่างถ้าเราต้องการสร้าง neural network ที่มี 2 layer ที่ประกอบด้วย layer แรกที่รับฟีเจอร์ขนาด 5 และได้ผลออกมาเป็นฟีเจอร์ขนาด 3 ถัดมาคือการนำฟีเจอร์ขนาด 3 และได้ผลออกมาเป็นฟีเจอร์ขนาด 1 เพื่อนำไปใช้ต่อ จะเขียนได้ดังนี้"
   ]
  },
  {
   "cell_type": "code",
   "execution_count": 10,
   "metadata": {},
   "outputs": [],
   "source": [
    "import torch.nn as nn\n",
    "import torch.nn.functional as F # โหลด module ที่เกี่ยวข้องกับการสร้าง Neural Network โดย module nn.functional จะมีฟังก์ชันที่เกี่ยวข้องกับการสร้าง layer ต่างๆ ของ Neural Network\n",
    "\n",
    "# สร้างคลาส Net ที่โดยใช้ต้นแบบจากคลาส nn.Module\n",
    "class Net(nn.Module):\n",
    "    # สร้าง Neural Network ที่มี 2 Linear layer\n",
    "    def __init__(self): # สร้าง constructor ซึ่งทำหน้าที่เป็นฟังก์ชันสำหรับสร้าง object จาก class Net \n",
    "        super().__init__() # เรียก constructor ของคลาสแม่ (nn.Module) เพื่อ initialize ค่าต่างๆ และนำ method ตั้งต้นของ nn.Module มาใช้งาน\n",
    "        self.fc1 = nn.Linear(5, 3) # สร้าง fully-connected layer ที่มีจำนวน input = 5 และ output = 3 ชื่อ fc1\n",
    "        self.fc2 = nn.Linear(3, 1) # สร้าง fully-connected layer ที่มีจำนวน input = 3 และ output = 1 ชื่อ fc2\n",
    "\n",
    "    # สร้าง forward porpagation ของ Neural Network โดยที่ input คือ Tensor x และ output คือ Tensor ที่ผ่าน layer ทั้ง 2 ชั้น โดยมีลำดับดังนี้\n",
    "    # 1. ผ่าน fully-connected layer ชั้นที่ 1 (fc1)\n",
    "    # 2. ผ่านฟังก์ชัน activation ชั้นที่ 1 (ReLU)\n",
    "    # 3. ผ่าน fully-connected layer ชั้นที่ 2 (fc2)\n",
    "    # 4. output ค่าที่ได้\n",
    "    def forward(self, x): # สร้าง forward propagation ของ Neural Network โดยที่ forward เป็น method ที่เราต้องสร้างเอง และเป็นสิ่งที่ต้องมีสำหรับคลาสที่สร้างจาก nn.Module ด้วย\n",
    "        x = F.relu(self.fc1(x)) # ผ่าน fully-connected layer ชั้นที่ 1 และผ่านฟังก์ชัน activation ชั้นที่ 1 (ReLU)\n",
    "        x = self.fc2(x) # ผ่าน fully-connected layer ชั้นที่ 2\n",
    "        return x # คืนค่า output ที่ได้"
   ]
  },
  {
   "cell_type": "markdown",
   "metadata": {},
   "source": [
    "จากนั่นเราจะสามารถสร้างชุดข้อมูลเล่นๆ เช่น x ที่มีขนาด 4 x 5 หรือ batch size = 4 และมี 5 ฟีเจอร์ เพื่อทดลองป้อนเข้าไปในโมเดลได้ โดยดังที่กล่าวไปข้างต้น การสร้างโมเดลนี้ยังไม่ได้รวมการเทรนพารามิเตอร์ของโมเดล สำหรับผู้ที่เริ่มต้น สามารถทดลองสร้างโมเดลและป้อนชุดข้อมูลสุ่มเพื่อทดลองว่ามิติของข้อมูลที่เราเตรียมสามารถใส่เข้าไปใน neural network ที่เราสร้างขึ้นได้หรือไม่"
   ]
  },
  {
   "cell_type": "code",
   "execution_count": 11,
   "metadata": {},
   "outputs": [
    {
     "name": "stdout",
     "output_type": "stream",
     "text": [
      "Input x: \n",
      " tensor([[-1.6471,  1.7493, -0.0529,  0.5742, -2.1234],\n",
      "        [-1.5412, -0.7041, -1.1932, -0.1249,  0.6539],\n",
      "        [-0.0605, -0.3132, -0.3388,  0.3613, -0.4370],\n",
      "        [ 0.3344, -0.4876, -0.8606, -0.3700, -1.5940]])\n",
      "Input shape =  torch.Size([4, 5])\n",
      "Output from network x_out: \n",
      " tensor([[-0.1010],\n",
      "        [ 0.2171],\n",
      "        [ 0.3244],\n",
      "        [ 0.3286]], grad_fn=<AddmmBackward0>)\n",
      "Output shape =  torch.Size([4, 1])\n"
     ]
    }
   ],
   "source": [
    "net = Net() # สร้าง object จากคลาส Net ที่สร้างข้างต้น\n",
    "\n",
    "# สร้าง input ขนาด 4x5 ที่มีค่าเป็นเลขสุ่ม\n",
    "x = torch.randn(4, 5) \n",
    "x_out = net(x) # ส่ง input ผ่าน Neural Network ที่สร้างข้างต้น และเก็บผลลัพธ์ไว้ใน x_out\n",
    "# แสดงผลลัพธ์\n",
    "print(\"Input x: \\n\", x) \n",
    "print(\"Input shape = \", x.shape)\n",
    "print(\"Output from network x_out: \\n\", x_out)\n",
    "print(\"Output shape = \", x_out.shape)"
   ]
  },
  {
   "cell_type": "markdown",
   "metadata": {},
   "source": [
    "## **Put it all together**\n",
    "\n",
    "หลังจากที่เราได้ทดลองสร้างโมเดลเป็นที่เรียบร้อย ขั้นตอนถัดไปประกอบด้วย\n",
    "\n",
    "- การเตรียมชุดข้อมูล เตรียมชุดข้อมูลเพื่อป้อนให้ neural network\n",
    "- การเทรนโมเดล ทำการป้อนข้อมูลให้ neural network สำหรับใช้ในการเรียนพารามิเตอร์ของโมเดล\n",
    "\n",
    "ซึ่งเราจะไปทดลองเขียน Convolutional neural network (CNN) ในบทเรียนถัดไป"
   ]
  }
 ],
 "metadata": {
  "kernelspec": {
   "display_name": "Python 3",
   "language": "python",
   "name": "python3"
  },
  "language_info": {
   "codemirror_mode": {
    "name": "ipython",
    "version": 3
   },
   "file_extension": ".py",
   "mimetype": "text/x-python",
   "name": "python",
   "nbconvert_exporter": "python",
   "pygments_lexer": "ipython3",
   "version": "3.10.11"
  }
 },
 "nbformat": 4,
 "nbformat_minor": 2
}
