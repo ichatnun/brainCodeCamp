{
 "cells": [
  {
   "cell_type": "markdown",
   "metadata": {},
   "source": [
    "# Classification with Convolutional Neural Network using PyTorch\n",
    "\n",
    "ในบทเรียนนี้เราจะทดลองสร้าง Convolutional Neural Network ซึ่งเป็น Neural Network ที่ใช้ฟีเจอร์เชิงพื้นที่ (spatial features) ของภาพเพื่อนำมาช่วยใช้ในการเทรนและทำนายประเภทของภาพ โดยในตัวอย่างนี้เราจะใช้ภาพที่เราได้ทดลองใช้ตอนเรียนเรื่อง Principal Component Analysis (PCA) ซึ่งเป็นภาพที่ผู้ป่วยทดลองวาดนาฬิกา มาทดลองสร้างโมเดลเพื่อแบ่งประเภทกัน\n",
    "\n",
    "ชุดข้อมูล: https://github.com/cccnlab/CDT-API-Network"
   ]
  },
  {
   "cell_type": "code",
   "execution_count": 1,
   "metadata": {},
   "outputs": [
    {
     "name": "stderr",
     "output_type": "stream",
     "text": [
      "--2023-05-30 02:21:03--  https://github.com/ichatnun/brainCodeCamp/raw/main/Fundamentals/DimensionalityReduction/data/CDT/clock_images.pickle\n",
      "Resolving github.com (github.com)... 20.205.243.166\n",
      "Connecting to github.com (github.com)|20.205.243.166|:443... connected.\n",
      "HTTP request sent, awaiting response... 302 Found\n",
      "Location: https://raw.githubusercontent.com/ichatnun/brainCodeCamp/main/Fundamentals/DimensionalityReduction/data/CDT/clock_images.pickle [following]\n",
      "--2023-05-30 02:21:03--  https://raw.githubusercontent.com/ichatnun/brainCodeCamp/main/Fundamentals/DimensionalityReduction/data/CDT/clock_images.pickle\n",
      "Resolving raw.githubusercontent.com (raw.githubusercontent.com)... 185.199.110.133, 185.199.108.133, 185.199.109.133, ...\n",
      "Connecting to raw.githubusercontent.com (raw.githubusercontent.com)|185.199.110.133|:443... connected.\n",
      "HTTP request sent, awaiting response... 200 OK\n",
      "Length: 1106083 (1.1M) [application/octet-stream]\n",
      "Saving to: 'images.pickle'\n",
      "\n",
      "     0K .......... .......... .......... .......... ..........  4% 4.14M 0s\n",
      "    50K .......... .......... .......... .......... ..........  9% 6.83M 0s\n",
      "   100K .......... .......... .......... .......... .......... 13% 6.88M 0s\n",
      "   150K .......... .......... .......... .......... .......... 18% 6.61M 0s\n",
      "   200K .......... .......... .......... .......... .......... 23% 6.69M 0s\n",
      "   250K .......... .......... .......... .......... .......... 27% 6.79M 0s\n",
      "   300K .......... .......... .......... .......... .......... 32% 7.09M 0s\n",
      "   350K .......... .......... .......... .......... .......... 37% 5.92M 0s\n",
      "   400K .......... .......... .......... .......... .......... 41% 6.64M 0s\n",
      "   450K .......... .......... .......... .......... .......... 46% 7.06M 0s\n",
      "   500K .......... .......... .......... .......... .......... 50% 6.74M 0s\n",
      "   550K .......... .......... .......... .......... .......... 55% 6.99M 0s\n",
      "   600K .......... .......... .......... .......... .......... 60% 5.02M 0s\n",
      "   650K .......... .......... .......... .......... .......... 64% 6.96M 0s\n",
      "   700K .......... .......... .......... .......... .......... 69% 6.76M 0s\n",
      "   750K .......... .......... .......... .......... .......... 74% 6.95M 0s\n",
      "   800K .......... .......... .......... .......... .......... 78% 6.68M 0s\n",
      "   850K .......... .......... .......... .......... .......... 83% 6.96M 0s\n",
      "   900K .......... .......... .......... .......... .......... 87% 7.01M 0s\n",
      "   950K .......... .......... .......... .......... .......... 92% 5.61M 0s\n",
      "  1000K .......... .......... .......... .......... .......... 97% 6.96M 0s\n",
      "  1050K .......... .......... ..........                      100% 8.93M=0.2s\n",
      "\n",
      "2023-05-30 02:21:04 (6.48 MB/s) - 'images.pickle' saved [1106083/1106083]\n",
      "\n",
      "--2023-05-30 02:21:04--  https://github.com/ichatnun/brainCodeCamp/raw/main/Fundamentals/DimensionalityReduction/data/CDT/labels.pickle\n",
      "Resolving github.com (github.com)... 20.205.243.166\n",
      "Connecting to github.com (github.com)|20.205.243.166|:443... connected.\n",
      "HTTP request sent, awaiting response... 302 Found\n",
      "Location: https://raw.githubusercontent.com/ichatnun/brainCodeCamp/main/Fundamentals/DimensionalityReduction/data/CDT/labels.pickle [following]\n",
      "--2023-05-30 02:21:04--  https://raw.githubusercontent.com/ichatnun/brainCodeCamp/main/Fundamentals/DimensionalityReduction/data/CDT/labels.pickle\n",
      "Resolving raw.githubusercontent.com (raw.githubusercontent.com)... 185.199.110.133, 185.199.108.133, 185.199.109.133, ...\n",
      "Connecting to raw.githubusercontent.com (raw.githubusercontent.com)|185.199.110.133|:443... connected.\n",
      "HTTP request sent, awaiting response... 200 OK\n",
      "Length: 630 [application/octet-stream]\n",
      "Saving to: 'labels.pickle'\n",
      "\n",
      "     0K                                                       100% 35.8M=0s\n",
      "\n",
      "2023-05-30 02:21:04 (35.8 MB/s) - 'labels.pickle' saved [630/630]\n",
      "\n"
     ]
    }
   ],
   "source": [
    "# Download the dataset which contrains images and labels\n",
    "!wget -O images.pickle https://github.com/ichatnun/brainCodeCamp/raw/main/Fundamentals/DimensionalityReduction/data/CDT/clock_images.pickle\n",
    "!wget -O labels.pickle https://github.com/ichatnun/brainCodeCamp/raw/main/Fundamentals/DimensionalityReduction/data/CDT/labels.pickle"
   ]
  },
  {
   "cell_type": "code",
   "execution_count": 2,
   "metadata": {},
   "outputs": [],
   "source": [
    "# import libraries\n",
    "import torch\n",
    "import torch.nn as nn\n",
    "import torch.nn.functional as F\n",
    "import torch.optim as optim\n",
    "from torch.utils.data import Dataset, DataLoader\n",
    "import torchvision\n",
    "import torchvision.transforms as transforms\n",
    "from sklearn.model_selection import train_test_split\n",
    "from glob import glob\n",
    "from PIL import Image\n",
    "from matplotlib import pyplot as plt\n",
    "import pickle\n",
    "import pandas as pd\n",
    "import numpy as np\n",
    "import os"
   ]
  },
  {
   "cell_type": "markdown",
   "metadata": {},
   "source": [
    "### Prepare Data\n",
    "\n",
    "การเตรียมข้อมูลทำได้โดยการอ่านข้อมูลภาพจาก `images.pickle` และประเภทของภาพจาก `labels.pickle` เพื่อใช้ในการเตรียมข้อมูล จากนั้นเปลี่ยนเป็น dataframe"
   ]
  },
  {
   "cell_type": "code",
   "execution_count": 3,
   "metadata": {},
   "outputs": [],
   "source": [
    "with open(\"images.pickle\", \"rb\") as handle:\n",
    "    images = pickle.load(handle)\n",
    "with open(\"labels.pickle\", \"rb\") as handle:\n",
    "    labels = pickle.load(handle)"
   ]
  },
  {
   "cell_type": "code",
   "execution_count": 4,
   "metadata": {},
   "outputs": [],
   "source": [
    "list_images = []\n",
    "for image in images:\n",
    "    image = Image.fromarray(image)\n",
    "    image = image.convert(\"RGB\")  # Convert to RGB mode\n",
    "    list_images.append(image)"
   ]
  },
  {
   "cell_type": "markdown",
   "metadata": {},
   "source": [
    "สร้าง dataframe ที่เก็บข้อมูลที่จำเป็นต้องใช้ โดยมี column ดังนี้\n",
    "- `Images` : ภาพที่ใช้ train\n",
    "- `encoded_labels` : ค่า label โดย 0 คือ ปกติ และ 1 คือ ผิดปกติ"
   ]
  },
  {
   "cell_type": "code",
   "execution_count": 5,
   "metadata": {},
   "outputs": [
    {
     "name": "stderr",
     "output_type": "stream",
     "text": [
      "<ipython-input-5-216431fcd8d8>:4: FutureWarning: The frame.append method is deprecated and will be removed from pandas in a future version. Use pandas.concat instead.\n",
      "  df_data = df_data.append({\"Images\": img, \"encoded_labels\": label}, ignore_index=True)\n",
      "<ipython-input-5-216431fcd8d8>:4: FutureWarning: The frame.append method is deprecated and will be removed from pandas in a future version. Use pandas.concat instead.\n",
      "  df_data = df_data.append({\"Images\": img, \"encoded_labels\": label}, ignore_index=True)\n",
      "<ipython-input-5-216431fcd8d8>:4: FutureWarning: The frame.append method is deprecated and will be removed from pandas in a future version. Use pandas.concat instead.\n",
      "  df_data = df_data.append({\"Images\": img, \"encoded_labels\": label}, ignore_index=True)\n",
      "<ipython-input-5-216431fcd8d8>:4: FutureWarning: The frame.append method is deprecated and will be removed from pandas in a future version. Use pandas.concat instead.\n",
      "  df_data = df_data.append({\"Images\": img, \"encoded_labels\": label}, ignore_index=True)\n",
      "<ipython-input-5-216431fcd8d8>:4: FutureWarning: The frame.append method is deprecated and will be removed from pandas in a future version. Use pandas.concat instead.\n",
      "  df_data = df_data.append({\"Images\": img, \"encoded_labels\": label}, ignore_index=True)\n",
      "<ipython-input-5-216431fcd8d8>:4: FutureWarning: The frame.append method is deprecated and will be removed from pandas in a future version. Use pandas.concat instead.\n",
      "  df_data = df_data.append({\"Images\": img, \"encoded_labels\": label}, ignore_index=True)\n",
      "<ipython-input-5-216431fcd8d8>:4: FutureWarning: The frame.append method is deprecated and will be removed from pandas in a future version. Use pandas.concat instead.\n",
      "  df_data = df_data.append({\"Images\": img, \"encoded_labels\": label}, ignore_index=True)\n",
      "<ipython-input-5-216431fcd8d8>:4: FutureWarning: The frame.append method is deprecated and will be removed from pandas in a future version. Use pandas.concat instead.\n",
      "  df_data = df_data.append({\"Images\": img, \"encoded_labels\": label}, ignore_index=True)\n",
      "<ipython-input-5-216431fcd8d8>:4: FutureWarning: The frame.append method is deprecated and will be removed from pandas in a future version. Use pandas.concat instead.\n",
      "  df_data = df_data.append({\"Images\": img, \"encoded_labels\": label}, ignore_index=True)\n",
      "<ipython-input-5-216431fcd8d8>:4: FutureWarning: The frame.append method is deprecated and will be removed from pandas in a future version. Use pandas.concat instead.\n",
      "  df_data = df_data.append({\"Images\": img, \"encoded_labels\": label}, ignore_index=True)\n",
      "<ipython-input-5-216431fcd8d8>:4: FutureWarning: The frame.append method is deprecated and will be removed from pandas in a future version. Use pandas.concat instead.\n",
      "  df_data = df_data.append({\"Images\": img, \"encoded_labels\": label}, ignore_index=True)\n",
      "<ipython-input-5-216431fcd8d8>:4: FutureWarning: The frame.append method is deprecated and will be removed from pandas in a future version. Use pandas.concat instead.\n",
      "  df_data = df_data.append({\"Images\": img, \"encoded_labels\": label}, ignore_index=True)\n",
      "<ipython-input-5-216431fcd8d8>:4: FutureWarning: The frame.append method is deprecated and will be removed from pandas in a future version. Use pandas.concat instead.\n",
      "  df_data = df_data.append({\"Images\": img, \"encoded_labels\": label}, ignore_index=True)\n",
      "<ipython-input-5-216431fcd8d8>:4: FutureWarning: The frame.append method is deprecated and will be removed from pandas in a future version. Use pandas.concat instead.\n",
      "  df_data = df_data.append({\"Images\": img, \"encoded_labels\": label}, ignore_index=True)\n",
      "<ipython-input-5-216431fcd8d8>:4: FutureWarning: The frame.append method is deprecated and will be removed from pandas in a future version. Use pandas.concat instead.\n",
      "  df_data = df_data.append({\"Images\": img, \"encoded_labels\": label}, ignore_index=True)\n",
      "<ipython-input-5-216431fcd8d8>:4: FutureWarning: The frame.append method is deprecated and will be removed from pandas in a future version. Use pandas.concat instead.\n",
      "  df_data = df_data.append({\"Images\": img, \"encoded_labels\": label}, ignore_index=True)\n",
      "<ipython-input-5-216431fcd8d8>:4: FutureWarning: The frame.append method is deprecated and will be removed from pandas in a future version. Use pandas.concat instead.\n",
      "  df_data = df_data.append({\"Images\": img, \"encoded_labels\": label}, ignore_index=True)\n",
      "<ipython-input-5-216431fcd8d8>:4: FutureWarning: The frame.append method is deprecated and will be removed from pandas in a future version. Use pandas.concat instead.\n",
      "  df_data = df_data.append({\"Images\": img, \"encoded_labels\": label}, ignore_index=True)\n",
      "<ipython-input-5-216431fcd8d8>:4: FutureWarning: The frame.append method is deprecated and will be removed from pandas in a future version. Use pandas.concat instead.\n",
      "  df_data = df_data.append({\"Images\": img, \"encoded_labels\": label}, ignore_index=True)\n",
      "<ipython-input-5-216431fcd8d8>:4: FutureWarning: The frame.append method is deprecated and will be removed from pandas in a future version. Use pandas.concat instead.\n",
      "  df_data = df_data.append({\"Images\": img, \"encoded_labels\": label}, ignore_index=True)\n",
      "<ipython-input-5-216431fcd8d8>:4: FutureWarning: The frame.append method is deprecated and will be removed from pandas in a future version. Use pandas.concat instead.\n",
      "  df_data = df_data.append({\"Images\": img, \"encoded_labels\": label}, ignore_index=True)\n",
      "<ipython-input-5-216431fcd8d8>:4: FutureWarning: The frame.append method is deprecated and will be removed from pandas in a future version. Use pandas.concat instead.\n",
      "  df_data = df_data.append({\"Images\": img, \"encoded_labels\": label}, ignore_index=True)\n",
      "<ipython-input-5-216431fcd8d8>:4: FutureWarning: The frame.append method is deprecated and will be removed from pandas in a future version. Use pandas.concat instead.\n",
      "  df_data = df_data.append({\"Images\": img, \"encoded_labels\": label}, ignore_index=True)\n",
      "<ipython-input-5-216431fcd8d8>:4: FutureWarning: The frame.append method is deprecated and will be removed from pandas in a future version. Use pandas.concat instead.\n",
      "  df_data = df_data.append({\"Images\": img, \"encoded_labels\": label}, ignore_index=True)\n",
      "<ipython-input-5-216431fcd8d8>:4: FutureWarning: The frame.append method is deprecated and will be removed from pandas in a future version. Use pandas.concat instead.\n",
      "  df_data = df_data.append({\"Images\": img, \"encoded_labels\": label}, ignore_index=True)\n",
      "<ipython-input-5-216431fcd8d8>:4: FutureWarning: The frame.append method is deprecated and will be removed from pandas in a future version. Use pandas.concat instead.\n",
      "  df_data = df_data.append({\"Images\": img, \"encoded_labels\": label}, ignore_index=True)\n",
      "<ipython-input-5-216431fcd8d8>:4: FutureWarning: The frame.append method is deprecated and will be removed from pandas in a future version. Use pandas.concat instead.\n",
      "  df_data = df_data.append({\"Images\": img, \"encoded_labels\": label}, ignore_index=True)\n",
      "<ipython-input-5-216431fcd8d8>:4: FutureWarning: The frame.append method is deprecated and will be removed from pandas in a future version. Use pandas.concat instead.\n",
      "  df_data = df_data.append({\"Images\": img, \"encoded_labels\": label}, ignore_index=True)\n",
      "<ipython-input-5-216431fcd8d8>:4: FutureWarning: The frame.append method is deprecated and will be removed from pandas in a future version. Use pandas.concat instead.\n",
      "  df_data = df_data.append({\"Images\": img, \"encoded_labels\": label}, ignore_index=True)\n",
      "<ipython-input-5-216431fcd8d8>:4: FutureWarning: The frame.append method is deprecated and will be removed from pandas in a future version. Use pandas.concat instead.\n",
      "  df_data = df_data.append({\"Images\": img, \"encoded_labels\": label}, ignore_index=True)\n",
      "<ipython-input-5-216431fcd8d8>:4: FutureWarning: The frame.append method is deprecated and will be removed from pandas in a future version. Use pandas.concat instead.\n",
      "  df_data = df_data.append({\"Images\": img, \"encoded_labels\": label}, ignore_index=True)\n",
      "<ipython-input-5-216431fcd8d8>:4: FutureWarning: The frame.append method is deprecated and will be removed from pandas in a future version. Use pandas.concat instead.\n",
      "  df_data = df_data.append({\"Images\": img, \"encoded_labels\": label}, ignore_index=True)\n",
      "<ipython-input-5-216431fcd8d8>:4: FutureWarning: The frame.append method is deprecated and will be removed from pandas in a future version. Use pandas.concat instead.\n",
      "  df_data = df_data.append({\"Images\": img, \"encoded_labels\": label}, ignore_index=True)\n",
      "<ipython-input-5-216431fcd8d8>:4: FutureWarning: The frame.append method is deprecated and will be removed from pandas in a future version. Use pandas.concat instead.\n",
      "  df_data = df_data.append({\"Images\": img, \"encoded_labels\": label}, ignore_index=True)\n",
      "<ipython-input-5-216431fcd8d8>:4: FutureWarning: The frame.append method is deprecated and will be removed from pandas in a future version. Use pandas.concat instead.\n",
      "  df_data = df_data.append({\"Images\": img, \"encoded_labels\": label}, ignore_index=True)\n",
      "<ipython-input-5-216431fcd8d8>:4: FutureWarning: The frame.append method is deprecated and will be removed from pandas in a future version. Use pandas.concat instead.\n",
      "  df_data = df_data.append({\"Images\": img, \"encoded_labels\": label}, ignore_index=True)\n",
      "<ipython-input-5-216431fcd8d8>:4: FutureWarning: The frame.append method is deprecated and will be removed from pandas in a future version. Use pandas.concat instead.\n",
      "  df_data = df_data.append({\"Images\": img, \"encoded_labels\": label}, ignore_index=True)\n",
      "<ipython-input-5-216431fcd8d8>:4: FutureWarning: The frame.append method is deprecated and will be removed from pandas in a future version. Use pandas.concat instead.\n",
      "  df_data = df_data.append({\"Images\": img, \"encoded_labels\": label}, ignore_index=True)\n",
      "<ipython-input-5-216431fcd8d8>:4: FutureWarning: The frame.append method is deprecated and will be removed from pandas in a future version. Use pandas.concat instead.\n",
      "  df_data = df_data.append({\"Images\": img, \"encoded_labels\": label}, ignore_index=True)\n",
      "<ipython-input-5-216431fcd8d8>:4: FutureWarning: The frame.append method is deprecated and will be removed from pandas in a future version. Use pandas.concat instead.\n",
      "  df_data = df_data.append({\"Images\": img, \"encoded_labels\": label}, ignore_index=True)\n",
      "<ipython-input-5-216431fcd8d8>:4: FutureWarning: The frame.append method is deprecated and will be removed from pandas in a future version. Use pandas.concat instead.\n",
      "  df_data = df_data.append({\"Images\": img, \"encoded_labels\": label}, ignore_index=True)\n",
      "<ipython-input-5-216431fcd8d8>:4: FutureWarning: The frame.append method is deprecated and will be removed from pandas in a future version. Use pandas.concat instead.\n",
      "  df_data = df_data.append({\"Images\": img, \"encoded_labels\": label}, ignore_index=True)\n",
      "<ipython-input-5-216431fcd8d8>:4: FutureWarning: The frame.append method is deprecated and will be removed from pandas in a future version. Use pandas.concat instead.\n",
      "  df_data = df_data.append({\"Images\": img, \"encoded_labels\": label}, ignore_index=True)\n",
      "<ipython-input-5-216431fcd8d8>:4: FutureWarning: The frame.append method is deprecated and will be removed from pandas in a future version. Use pandas.concat instead.\n",
      "  df_data = df_data.append({\"Images\": img, \"encoded_labels\": label}, ignore_index=True)\n",
      "<ipython-input-5-216431fcd8d8>:4: FutureWarning: The frame.append method is deprecated and will be removed from pandas in a future version. Use pandas.concat instead.\n",
      "  df_data = df_data.append({\"Images\": img, \"encoded_labels\": label}, ignore_index=True)\n",
      "<ipython-input-5-216431fcd8d8>:4: FutureWarning: The frame.append method is deprecated and will be removed from pandas in a future version. Use pandas.concat instead.\n",
      "  df_data = df_data.append({\"Images\": img, \"encoded_labels\": label}, ignore_index=True)\n",
      "<ipython-input-5-216431fcd8d8>:4: FutureWarning: The frame.append method is deprecated and will be removed from pandas in a future version. Use pandas.concat instead.\n",
      "  df_data = df_data.append({\"Images\": img, \"encoded_labels\": label}, ignore_index=True)\n",
      "<ipython-input-5-216431fcd8d8>:4: FutureWarning: The frame.append method is deprecated and will be removed from pandas in a future version. Use pandas.concat instead.\n",
      "  df_data = df_data.append({\"Images\": img, \"encoded_labels\": label}, ignore_index=True)\n",
      "<ipython-input-5-216431fcd8d8>:4: FutureWarning: The frame.append method is deprecated and will be removed from pandas in a future version. Use pandas.concat instead.\n",
      "  df_data = df_data.append({\"Images\": img, \"encoded_labels\": label}, ignore_index=True)\n",
      "<ipython-input-5-216431fcd8d8>:4: FutureWarning: The frame.append method is deprecated and will be removed from pandas in a future version. Use pandas.concat instead.\n",
      "  df_data = df_data.append({\"Images\": img, \"encoded_labels\": label}, ignore_index=True)\n",
      "<ipython-input-5-216431fcd8d8>:4: FutureWarning: The frame.append method is deprecated and will be removed from pandas in a future version. Use pandas.concat instead.\n",
      "  df_data = df_data.append({\"Images\": img, \"encoded_labels\": label}, ignore_index=True)\n",
      "<ipython-input-5-216431fcd8d8>:4: FutureWarning: The frame.append method is deprecated and will be removed from pandas in a future version. Use pandas.concat instead.\n",
      "  df_data = df_data.append({\"Images\": img, \"encoded_labels\": label}, ignore_index=True)\n",
      "<ipython-input-5-216431fcd8d8>:4: FutureWarning: The frame.append method is deprecated and will be removed from pandas in a future version. Use pandas.concat instead.\n",
      "  df_data = df_data.append({\"Images\": img, \"encoded_labels\": label}, ignore_index=True)\n",
      "<ipython-input-5-216431fcd8d8>:4: FutureWarning: The frame.append method is deprecated and will be removed from pandas in a future version. Use pandas.concat instead.\n",
      "  df_data = df_data.append({\"Images\": img, \"encoded_labels\": label}, ignore_index=True)\n",
      "<ipython-input-5-216431fcd8d8>:4: FutureWarning: The frame.append method is deprecated and will be removed from pandas in a future version. Use pandas.concat instead.\n",
      "  df_data = df_data.append({\"Images\": img, \"encoded_labels\": label}, ignore_index=True)\n",
      "<ipython-input-5-216431fcd8d8>:4: FutureWarning: The frame.append method is deprecated and will be removed from pandas in a future version. Use pandas.concat instead.\n",
      "  df_data = df_data.append({\"Images\": img, \"encoded_labels\": label}, ignore_index=True)\n",
      "<ipython-input-5-216431fcd8d8>:4: FutureWarning: The frame.append method is deprecated and will be removed from pandas in a future version. Use pandas.concat instead.\n",
      "  df_data = df_data.append({\"Images\": img, \"encoded_labels\": label}, ignore_index=True)\n",
      "<ipython-input-5-216431fcd8d8>:4: FutureWarning: The frame.append method is deprecated and will be removed from pandas in a future version. Use pandas.concat instead.\n",
      "  df_data = df_data.append({\"Images\": img, \"encoded_labels\": label}, ignore_index=True)\n",
      "<ipython-input-5-216431fcd8d8>:4: FutureWarning: The frame.append method is deprecated and will be removed from pandas in a future version. Use pandas.concat instead.\n",
      "  df_data = df_data.append({\"Images\": img, \"encoded_labels\": label}, ignore_index=True)\n",
      "<ipython-input-5-216431fcd8d8>:4: FutureWarning: The frame.append method is deprecated and will be removed from pandas in a future version. Use pandas.concat instead.\n",
      "  df_data = df_data.append({\"Images\": img, \"encoded_labels\": label}, ignore_index=True)\n"
     ]
    }
   ],
   "source": [
    "df_data = pd.DataFrame(columns=[\"Images\", \"encoded_labels\"])\n",
    "\n",
    "for img, label in zip(list_images, labels):\n",
    "    df_data = df_data.append({\"Images\": img, \"encoded_labels\": label}, ignore_index=True)"
   ]
  },
  {
   "cell_type": "markdown",
   "metadata": {},
   "source": [
    "## เตรียมชุดข้อมูล (Prepare Data)\n",
    "\n",
    "แบ่งข้อมูลเป็น train set (90%) และ test set (10%) โดยใช้ `train_test_split` จาก `sklearn.model_selection`"
   ]
  },
  {
   "cell_type": "code",
   "execution_count": 6,
   "metadata": {},
   "outputs": [
    {
     "data": {
      "text/plain": [
       "(54, 6)"
      ]
     },
     "execution_count": 6,
     "metadata": {},
     "output_type": "execute_result"
    }
   ],
   "source": [
    "train_data, test_data = train_test_split(df_data, test_size=0.1, random_state=42)\n",
    "len(train_data), len(test_data)"
   ]
  },
  {
   "cell_type": "markdown",
   "metadata": {},
   "source": [
    "สร้างชุดข้อมูล dataset จาก training และ testing โดยใช้ `torch.utils.data.Dataset` and `torch.utils.data.DataLoader` โดย\n",
    "\n",
    "- `Dataset` เป็น class ที่ใช้ในการกำหนดชุดข้อมูลของเรา โดยปกติจะประกอบด้วย 3 ฟังก์ชันหลักคือ `__init__` ใช้เพื่อประกาศค่าต่างๆ, `__len__` เป็นฟังก์ชันที่ให้ขนาดของชุดข้อมูล, และ `__getitem__` ที่มี index เป็น input และให้ `img` และ `label` ของ index นั้นๆออกมา\n",
    "- `DataLoader` ส่วนมากจะใช้ร่วมกับ `Dataset` ที่เราสร้างขึ้น โดยเมื่อเราประกาศ `Dataset` แล้วจะสามารถนำ `DataLoader` มาครอบ `Dataset` เพื่อใช้ในการดึงข้อมูลออกมาเป็น batch ได้"
   ]
  },
  {
   "cell_type": "code",
   "execution_count": 7,
   "metadata": {},
   "outputs": [],
   "source": [
    "transform = transforms.Compose(\n",
    "    [transforms.ToTensor(), transforms.Normalize((0.5, 0.5, 0.5), (0.5, 0.5, 0.5))]\n",
    ")\n",
    "\n",
    "base_path = \"CDT_dataset\"\n",
    "\n",
    "class CDT_dataset(Dataset):\n",
    "    def __init__(self, img_data, base_path, transform):\n",
    "        self.img_data = img_data \n",
    "        self.base_path = base_path\n",
    "        self.transform = transform\n",
    "\n",
    "    def __len__(self):\n",
    "        return len(self.img_data)\n",
    "\n",
    "    def __getitem__(self, index):\n",
    "        img = self.img_data.iloc[index][\"Images\"]\n",
    "        img = img.resize((32, 32)) # ลดขนาดภาพให้มีขนาด 32x32 เพื่อใช้ในการทำนาย\n",
    "        if self.transform is not None:\n",
    "            img = self.transform(img)\n",
    "        label = self.img_data.iloc[index][\"encoded_labels\"]\n",
    "        return img, label\n",
    "\n",
    "\n",
    "train_dataset = CDT_dataset(train_data, base_path, transform)\n",
    "test_dataset = CDT_dataset(test_data, base_path, transform)"
   ]
  },
  {
   "cell_type": "code",
   "execution_count": 8,
   "metadata": {},
   "outputs": [],
   "source": [
    "train_loader = DataLoader(train_dataset, batch_size=4, shuffle=True)\n",
    "test_loader = DataLoader(test_dataset, batch_size=4, shuffle=True)"
   ]
  },
  {
   "cell_type": "markdown",
   "metadata": {},
   "source": [
    "เขียนฟังก์ชันเพื่อยกตัวอย่างภาพที่ใช้ train โดยใช้ `next(iter(train_loader))` เพื่อดึงตัวอย่างออกมา 1 batch ในด้านบนเรากำหนดให้ `batch_size` มีค่าเท่ากับ 4"
   ]
  },
  {
   "cell_type": "code",
   "execution_count": 9,
   "metadata": {},
   "outputs": [
    {
     "data": {
      "image/png": "[encoded data removed]",
      "text/plain": [
       "<Figure size 432x288 with 1 Axes>"
      ]
     },
     "metadata": {
      "needs_background": "light"
     },
     "output_type": "display_data"
    },
    {
     "name": "stdout",
     "output_type": "stream",
     "text": [
      "normal normal abnormal abnormal\n"
     ]
    }
   ],
   "source": [
    "def imshow(img):\n",
    "    img = img / 2 + 0.5\n",
    "    npimg = img.numpy()\n",
    "    plt.imshow(np.transpose(npimg, (1, 2, 0)))\n",
    "    plt.show()\n",
    "\n",
    "images, labels = next(iter(train_loader))\n",
    "SD_type = {0: \"normal\", 1: \"abnormal\"}\n",
    "\n",
    "imshow(torchvision.utils.make_grid(images))\n",
    "classes = (\"normal\", \"abnormal\")\n",
    "print(\" \".join(f\"{classes[labels[j]]:5s}\" for j in range(4)))"
   ]
  },
  {
   "cell_type": "markdown",
   "metadata": {},
   "source": [
    "## Training Model\n",
    "\n",
    "สร้าง model โดยใช้ `torch.nn.Sequential` โดยมี layer ดังนี้\n",
    "- Convolutional layer (`nn.Conv2d`) ซึ่งจะรับค่าทั้งหมด 3 ค่าคือ input depth, output depth และ kernel size ยกตัวอย่างเช่นในเลเยอร์แรก `nn.Conv2d(3, 6, 5)` จะรับ input depth ของภาพเท่ากับ 3 นั่นก็คือ RGB channel นั่นเอง และ output ออกมาเป็นภาพที่มี depth เท่ากับ 6\n",
    "- จากนั้นก็จะส่งต่อไปให้ `nn.MaxPool2d(2, 2)` ซึ่งมี kernel size เท่ากับ 2 และ stride เท่ากับ 2 โดยจะลดขนาดของภาพเป็นครึ่งหนึ่งนั่นเอง (แต่ depth เท่าเดิม)"
   ]
  },
  {
   "cell_type": "code",
   "execution_count": 10,
   "metadata": {},
   "outputs": [],
   "source": [
    "class Net(nn.Module):\n",
    "    def __init__(self):\n",
    "        super().__init__()\n",
    "        self.conv1 = nn.Conv2d(3, 6, 5)\n",
    "        self.pool = nn.MaxPool2d(2, 2)\n",
    "        self.conv2 = nn.Conv2d(6, 16, 5)\n",
    "        self.fc1 = nn.Linear(16 * 5 * 5, 120)\n",
    "        self.fc2 = nn.Linear(120, 84)\n",
    "        self.fc3 = nn.Linear(84, 10)\n",
    "\n",
    "    def forward(self, x):\n",
    "        x = self.pool(F.relu(self.conv1(x)))\n",
    "        x = self.pool(F.relu(self.conv2(x)))\n",
    "        x = torch.flatten(x, 1)  # flatten all dimensions except batch\n",
    "        x = F.relu(self.fc1(x))\n",
    "        x = F.relu(self.fc2(x))\n",
    "        x = self.fc3(x)\n",
    "        return x\n",
    "\n",
    "\n",
    "model = Net()"
   ]
  },
  {
   "cell_type": "markdown",
   "metadata": {},
   "source": [
    "กำหนด `hyperparameters` ที่จำเป็นต้องใช้ ได้แก่ loss function ซึ่งคือ `CrossEntropyLoss`, optimizer ซึ่งคือ `Adam` ที่รับพารามิเตอร์ของโมเดล จากนั้นเทรนโมเดลโดยใส่ชุดข้อมูลเข้าไปในโมเดล และทำการอัพเดทโมเดลด้วยการคำนวณ  gradient (`loss.backward()`) และอัพเดทพารามิเตอร์ของโมเดล (`optimizer.step()`)"
   ]
  },
  {
   "cell_type": "code",
   "execution_count": 11,
   "metadata": {},
   "outputs": [],
   "source": [
    "# Define a Loss function and optimizer\n",
    "\n",
    "criterion = nn.CrossEntropyLoss()\n",
    "optimizer = optim.Adam(model.parameters(), lr=0.001)"
   ]
  },
  {
   "cell_type": "code",
   "execution_count": 12,
   "metadata": {},
   "outputs": [
    {
     "name": "stdout",
     "output_type": "stream",
     "text": [
      "[epoch: 1 ] loss: 22.926\n",
      "[epoch: 2 ] loss: 9.787\n",
      "[epoch: 3 ] loss: 7.052\n",
      "[epoch: 4 ] loss: 7.463\n",
      "[epoch: 5 ] loss: 7.127\n",
      "[epoch: 6 ] loss: 7.052\n",
      "[epoch: 7 ] loss: 6.864\n",
      "[epoch: 8 ] loss: 7.052\n",
      "[epoch: 9 ] loss: 7.088\n",
      "[epoch: 10 ] loss: 7.005\n",
      "[epoch: 11 ] loss: 6.977\n",
      "[epoch: 12 ] loss: 7.308\n",
      "[epoch: 13 ] loss: 6.862\n",
      "[epoch: 14 ] loss: 6.846\n",
      "[epoch: 15 ] loss: 6.977\n",
      "[epoch: 16 ] loss: 7.246\n",
      "[epoch: 17 ] loss: 6.921\n",
      "[epoch: 18 ] loss: 7.170\n",
      "[epoch: 19 ] loss: 7.069\n",
      "[epoch: 20 ] loss: 6.585\n",
      "[epoch: 21 ] loss: 6.996\n",
      "[epoch: 22 ] loss: 6.520\n",
      "[epoch: 23 ] loss: 5.816\n",
      "[epoch: 24 ] loss: 3.796\n",
      "[epoch: 25 ] loss: 2.211\n",
      "[epoch: 26 ] loss: 1.867\n",
      "[epoch: 27 ] loss: 0.460\n",
      "[epoch: 28 ] loss: 0.661\n",
      "[epoch: 29 ] loss: 0.334\n",
      "[epoch: 30 ] loss: 0.162\n",
      "[epoch: 31 ] loss: 0.041\n",
      "[epoch: 32 ] loss: 0.142\n",
      "[epoch: 33 ] loss: 0.041\n",
      "[epoch: 34 ] loss: 0.009\n",
      "[epoch: 35 ] loss: 0.008\n",
      "[epoch: 36 ] loss: 0.012\n",
      "[epoch: 37 ] loss: 0.008\n",
      "[epoch: 38 ] loss: 0.007\n",
      "[epoch: 39 ] loss: 0.005\n",
      "[epoch: 40 ] loss: 0.005\n",
      "[epoch: 41 ] loss: 0.003\n",
      "[epoch: 42 ] loss: 0.004\n",
      "[epoch: 43 ] loss: 0.004\n",
      "[epoch: 44 ] loss: 0.002\n",
      "[epoch: 45 ] loss: 0.002\n",
      "[epoch: 46 ] loss: 0.003\n",
      "[epoch: 47 ] loss: 0.001\n",
      "[epoch: 48 ] loss: 0.002\n",
      "[epoch: 49 ] loss: 0.001\n",
      "[epoch: 50 ] loss: 0.001\n",
      "[epoch: 51 ] loss: 0.001\n",
      "[epoch: 52 ] loss: 0.001\n",
      "[epoch: 53 ] loss: 0.001\n",
      "[epoch: 54 ] loss: 0.001\n",
      "[epoch: 55 ] loss: 0.001\n",
      "[epoch: 56 ] loss: 0.001\n",
      "[epoch: 57 ] loss: 0.000\n",
      "[epoch: 58 ] loss: 0.001\n",
      "[epoch: 59 ] loss: 0.001\n",
      "[epoch: 60 ] loss: 0.001\n",
      "[epoch: 61 ] loss: 0.000\n",
      "[epoch: 62 ] loss: 0.001\n",
      "[epoch: 63 ] loss: 0.001\n",
      "[epoch: 64 ] loss: 0.000\n",
      "[epoch: 65 ] loss: 0.001\n",
      "[epoch: 66 ] loss: 0.000\n",
      "[epoch: 67 ] loss: 0.001\n",
      "[epoch: 68 ] loss: 0.000\n",
      "[epoch: 69 ] loss: 0.000\n",
      "[epoch: 70 ] loss: 0.000\n",
      "[epoch: 71 ] loss: 0.001\n",
      "[epoch: 72 ] loss: 0.000\n",
      "[epoch: 73 ] loss: 0.000\n",
      "[epoch: 74 ] loss: 0.000\n",
      "[epoch: 75 ] loss: 0.000\n",
      "[epoch: 76 ] loss: 0.000\n",
      "[epoch: 77 ] loss: 0.000\n",
      "[epoch: 78 ] loss: 0.000\n",
      "[epoch: 79 ] loss: 0.000\n",
      "[epoch: 80 ] loss: 0.000\n",
      "[epoch: 81 ] loss: 0.000\n",
      "[epoch: 82 ] loss: 0.000\n",
      "[epoch: 83 ] loss: 0.000\n",
      "[epoch: 84 ] loss: 0.000\n",
      "[epoch: 85 ] loss: 0.000\n",
      "[epoch: 86 ] loss: 0.000\n",
      "[epoch: 87 ] loss: 0.000\n",
      "[epoch: 88 ] loss: 0.000\n",
      "[epoch: 89 ] loss: 0.000\n",
      "[epoch: 90 ] loss: 0.000\n",
      "[epoch: 91 ] loss: 0.000\n",
      "[epoch: 92 ] loss: 0.000\n",
      "[epoch: 93 ] loss: 0.000\n",
      "[epoch: 94 ] loss: 0.000\n",
      "[epoch: 95 ] loss: 0.000\n",
      "[epoch: 96 ] loss: 0.000\n",
      "[epoch: 97 ] loss: 0.000\n",
      "[epoch: 98 ] loss: 0.000\n",
      "[epoch: 99 ] loss: 0.000\n",
      "[epoch: 100 ] loss: 0.000\n",
      "Finished Training\n"
     ]
    }
   ],
   "source": [
    "for epoch in range(100):\n",
    "    running_loss = 0.0\n",
    "    for i, data in enumerate(train_loader, 0):\n",
    "        inputs, labels = data\n",
    "        optimizer.zero_grad()\n",
    "        outputs = model(inputs)\n",
    "        loss = criterion(outputs, labels)\n",
    "        loss.backward()\n",
    "        optimizer.step()\n",
    "        running_loss += loss.item()\n",
    "        if i % 10 == 9:\n",
    "            print(f\"[epoch: {epoch + 1} ] loss: {running_loss / 1:.3f}\")\n",
    "            running_loss = 0.0\n",
    "\n",
    "print(\"Finished Training\")"
   ]
  },
  {
   "cell_type": "code",
   "execution_count": 13,
   "metadata": {},
   "outputs": [],
   "source": [
    "# Save the model\n",
    "PATH = \"./CDT_model.pth\"\n",
    "torch.save(model.state_dict(), PATH)"
   ]
  },
  {
   "cell_type": "markdown",
   "metadata": {},
   "source": [
    "### Validation Data\n",
    "\n",
    "ทดลองนำภาพตัวอย่างจาก test set มาทำนายด้วยโมเดลที่เราได้เทรนไป"
   ]
  },
  {
   "cell_type": "code",
   "execution_count": 14,
   "metadata": {},
   "outputs": [
    {
     "data": {
      "image/png": "[encoded data removed]",
      "text/plain": [
       "<Figure size 432x288 with 1 Axes>"
      ]
     },
     "metadata": {
      "needs_background": "light"
     },
     "output_type": "display_data"
    },
    {
     "name": "stdout",
     "output_type": "stream",
     "text": [
      "GroundTruth:  normal normal normal abnormal\n"
     ]
    }
   ],
   "source": [
    "dataiter = iter(test_loader)\n",
    "images, labels = next(dataiter)\n",
    "\n",
    "# print images\n",
    "imshow(torchvision.utils.make_grid(images))\n",
    "print(\"GroundTruth: \", \" \".join(f\"{classes[labels[j]]:5s}\" for j in range(4)))"
   ]
  },
  {
   "cell_type": "markdown",
   "metadata": {},
   "source": [
    "ในการใช้งานจริงเราสามารถสร้างโมเดล และอ่าน weights (หรือ parameters) ของโมเดลที่เทรนไว้แล้ว เพื่อนำมาใช้ทำนายเลยได้ ไม่จำเป็นต้องเทรนใหม่"
   ]
  },
  {
   "cell_type": "code",
   "execution_count": 15,
   "metadata": {},
   "outputs": [
    {
     "data": {
      "text/plain": [
       "<All keys matched successfully>"
      ]
     },
     "execution_count": 15,
     "metadata": {},
     "output_type": "execute_result"
    }
   ],
   "source": [
    "model = Net()\n",
    "model.load_state_dict(torch.load(PATH))"
   ]
  },
  {
   "cell_type": "code",
   "execution_count": 16,
   "metadata": {},
   "outputs": [
    {
     "name": "stdout",
     "output_type": "stream",
     "text": [
      "Predicted:  normal normal normal abnormal\n"
     ]
    }
   ],
   "source": [
    "# Predictions\n",
    "outputs = model(images)\n",
    "\n",
    "_, predicted = torch.max(outputs, 1)\n",
    "\n",
    "print(\"Predicted: \", \" \".join(f\"{classes[predicted[j]]:5s}\" for j in range(4)))"
   ]
  },
  {
   "cell_type": "markdown",
   "metadata": {},
   "source": [
    "ในตัวอย่างนี้เราเพียงแค่ต้องการโชว์กระบวนการเบื้องต้นของการสร้างและเทรนโมเดล Convolutional Neural Network เท่านั่นแต่ในเทรนโมเดลจริงนั่นเรายังต้องคำนึงถึงปัจจัยอื่นๆอีกมากมาย เช่น การ overfit ของโมเดล, การปรับหน้าตาของโมเดล, การใช้ optimizer แบบอื่นๆ ที่เป็นปัจจัยในการเทรนโมเดลให้มีประสิทธิภาพ"
   ]
  }
 ],
 "metadata": {
  "kernelspec": {
   "display_name": "Python 3",
   "language": "python",
   "name": "python3"
  },
  "language_info": {
   "codemirror_mode": {
    "name": "ipython",
    "version": 3
   },
   "file_extension": ".py",
   "mimetype": "text/x-python",
   "name": "python",
   "nbconvert_exporter": "python",
   "pygments_lexer": "ipython3",
   "version": "3.8.8"
  }
 },
 "nbformat": 4,
 "nbformat_minor": 2
}
