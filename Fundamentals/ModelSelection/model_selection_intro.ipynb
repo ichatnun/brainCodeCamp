{
 "cells": [
  {
   "cell_type": "code",
   "execution_count": null,
   "metadata": {},
   "outputs": [],
   "source": [
    "from IPython.display import IFrame \n",
    "IFrame(src=\"https://www.youtube.com/embed/kBXG5GHEbaY?start=613\", width=\"560\", height=\"315\" )"
   ]
  }
 ],
 "metadata": {
  "language_info": {
   "name": "python"
  },
  "orig_nbformat": 4
 },
 "nbformat": 4,
 "nbformat_minor": 2
}
