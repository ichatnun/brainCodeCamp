{
  "cells": [
    {
      "cell_type": "markdown",
      "metadata": {
        "id": "K9rgN5_aJGc_"
      },
      "source": [
        "# Simple Linear Model\n",
        "\n",
        "ถ้าลองนึกภาพตามง่ายๆในมุมมองของผู้สร้างโมเดล เราอาจจะสร้างโมเดลที่มีความซับซ้อนมากๆและทำนายชุดข้อมูลที่เรามีได้ดีมาก หรืออาจจะสร้างโมเดลที่ซับซ้อนน้อยลงมาหน่อยแต่ก็ยังทำนายชุดข้อมูลที่เรามีได้ดีรองลงมาก็ได้ ตัวเลือกในการสร้างโมเดลมีหลากหลายรูปแบบ แต่ว่าเราจะเลือกโมเดลที่เหมาะสมได้อย่างไร?\n",
        "\n",
        "ในบทเรียนนี้เราจะลองสร้างโมเดลทำนายชุดข้อมูลในรูปแบบต่างๆ และดูกันว่าโมเดลแบบใดจะเหมาะสมกับชุดข้อมูลตัวอย่างของเรา"
      ]
    },
    {
      "cell_type": "code",
      "execution_count": 1,
      "metadata": {
        "id": "UwSov8-9Tivi"
      },
      "outputs": [],
      "source": [
        "import numpy as np\n",
        "import matplotlib.pyplot as plt\n",
        "from sklearn.linear_model import LinearRegression\n",
        "\n",
        "import ipywidgets as widgets  # ใช้สำหรับการทำ interactive display"
      ]
    },
    {
      "cell_type": "markdown",
      "metadata": {
        "id": "_iwAc339cbU9"
      },
      "source": [
        "ตัวอย่างการใส่ video ซึ่งจะมาปรับแก้ทีหลัง\n",
        "<iframe width=\"560\" height=\"315\" src=\"https://www.youtube.com/embed/NCF1cqLCW84\" title=\"YouTube video player\" frameborder=\"0\" allow=\"accelerometer; autoplay; clipboard-write; encrypted-media; gyroscope; picture-in-picture; web-share\" allowfullscreen></iframe>"
      ]
    },
    {
      "cell_type": "markdown",
      "metadata": {
        "id": "X-v93fa3Tj74"
      },
      "source": [
        "โมเดลเชิงเส้น (Linear Model)\n",
        "---\n",
        "กำหนดให้สมการความสัมพันธ์ระหว่าง $x$ และ $y$ ที่แท้จริง เป็นสมการเชิงเส้น\n",
        "\n",
        "$$y = w_0 + w_1x$$\n",
        "\n",
        "โดยที่ $w_0$ คือค่าจุดตัดแกน y และ $w_1$ คือค่าความชันของเส้นตรง แต่ในการเก็บข้อมูลจริงมักมีสัญญาณรบกวน (noise) ที่มาจากหลายปัจจัย เช่น ความไม่เสถียรของเครื่องมือเก็บข้อมูล คลื่นไฟฟ้ากระแสสลับที่ใช้ในประเทศ  ในกรณีที่เก็บข้อมูลผ่านอุปกรณ์อิเล็กทรอนิคส์ หรืออาจจะมี noise ที่เราไม่รู้ว่ามาจากกระบวนการไหนก็ตาม ปัจจัยเหล่านี้ส่งผลให้ข้อมูลที่เก็บมานั้นมีค่าที่แตกต่างไปจากความสัมพันธ์ที่แท้จริง ซึ่งสามารถเขียนอธิบายได้ด้วยสมการ\n",
        "\n",
        "$$y = w_0 + w_1x + noise$$ แทน\n",
        "\n",
        "<br><br>\n",
        "ในส่วนนี้เราจะลองทดลองเลียนแบบกระบวนการเก็บข้อมูลผ่านการเรียกใช้ `generate_sample_linear`\n"
      ]
    },
    {
      "cell_type": "code",
      "execution_count": 2,
      "metadata": {
        "colab": {
          "base_uri": "https://localhost:8080/",
          "height": 449
        },
        "id": "7jKtIz8d-tDH",
        "outputId": "70f01450-b218-4edd-fb2a-d1b3ab639fb9"
      },
      "outputs": [
        {
          "output_type": "display_data",
          "data": {
            "text/plain": [
              "<Figure size 640x480 with 1 Axes>"
            ],
            "image/png": "[encoded data removed]"
          },
          "metadata": {}
        }
      ],
      "source": [
        "def generate_sample_linear(x, w0=1, w1=2, include_noise=True):\n",
        "  # สร้างสมการเส้นตรงโดยที่จำลองการใส่สัญญาณรบกวนเข้าไป\n",
        "  # เลือก include_noise เป็น True เพื่อกำหนดให้มีค่า noise เพิ่มเข้าไปในสมการ\n",
        "  if include_noise:\n",
        "    noise = 0.20 * np.max(x) * np.random.randn(*x.shape)\n",
        "  else:\n",
        "    noise = 0\n",
        "  y = w0 + (w1 * x) + noise\n",
        "  return y\n",
        "\n",
        "# ทดลองสร้างข้อมูลโดยการเรียกใช้ generate_sample_linear\n",
        "num_samples = 100\n",
        "w0_true, w1_true = 1, 2\n",
        "x = 5 * np.random.rand(num_samples, 1) - 2.5 # สุ่มค่า x จากพิสัย -2.5 ถึง 2.5\n",
        "y = generate_sample_linear(x, w0_true, w1_true, include_noise=True)\n",
        "\n",
        "# สร้างข้อมูลที่ไม่มีสัญญาณรบกวนมาเปรียบเทียบ ซึ่งเป็นข้อมูลที่เรามักไม่มีโอกาสเข้าถึงในชีวิตจริง\n",
        "y_true = generate_sample_linear(x, w0_true, w1_true, include_noise=False)\n",
        "\n",
        "# สร้างข้อมูลที่ไม่มีสัญญาณรบกวนมาแบบละเอียด เพื่อใช้ในการวาดกราฟ (เส้นประสีดำ)\n",
        "x_whole_line = np.linspace(-2.5, 2.5, 100)\n",
        "y_true_whole_line = generate_sample_linear(x_whole_line, w0_true, w1_true, include_noise=False)\n",
        "\n",
        "# Plot ข้อมูล x, y ที่มีอยู่\n",
        "fig, ax = plt.subplots()\n",
        "ax.scatter(x, y, c='b', label='Observed')\n",
        "ax.plot(x_whole_line, y_true_whole_line, 'k--', label='True')\n",
        "ax.set(xlabel='x', ylabel='y')\n",
        "ax.legend()\n",
        "plt.show()"
      ]
    },
    {
      "cell_type": "markdown",
      "metadata": {
        "id": "DZua7f9ME1_r"
      },
      "source": [
        "\n",
        "กำหนดให้เรามีจำนวนจุดข้อมูลในรูปด้านบนทั้งหมด $n$ จุด $(x_1,y_1), (x_2,y_2), ..., (x_i,y_i),.., (x_n,y_n)$ แสดงด้วยสีน้ำเงิน หากเราพิจารณาภาพความสัมพันธ์ระหว่าง $x$ กับ $y$ จากการรันโค้ดด้านบน จะพบว่ามีลักษณะคล้ายกับเส้นตรง\n",
        "\n",
        "**หมายเหตุ** ถึงแม้ว่าในรูปด้านบน เราจะ plot เส้นประสีดำ ซึ่งแสดงความสัมพันธ์ระหว่าง $x$ และ $y$ ที่แท้จริง (ปราศจากสัญญาณรบกวน) แต่ในชีวิตจริง เรามักจะไม่มีโอกาสเข้าถึงข้อมูลตรงนี้ได้เลย\n",
        "\n",
        "<br><br>\n",
        "\n",
        "\n",
        "\n",
        "สมมติว่ามีคนเดินมาถามเราว่า ถ้าค่า $x$ มีค่าเป็น 0.8 แล้ว $y$ ควรจะมีค่าเป็นเท่าไหร่ เราจะตอบเค้าว่าอย่างไรดี\n",
        "\n",
        "\n",
        "ในการให้คำตอบตรงนี้ เราสามารถทำได้หลายวิธีมาก ๆ เช่น\n",
        "\n",
        "\n",
        "*   ถ้าเกิดว่าเราไปไล่ดูจุดข้อมูลทั้ง $n$ จุดในชุดข้อมูลของเรา พบว่ามีจุด $(0.8, 2.6)$ อยู่ เราก็อาจจะตอบได้ว่า $y$ น่าจะมีค่าเป็น $2.6$\n",
        "\n",
        "*   ถ้าเกิดว่าเราไปไล่ดูจุดข้อมูลทั้ง $n$ จุดในชุดข้อมูลของเรา แต่ไม่พบจุดที่มีค่า $x$ เป็น $0.8$ เลย แต่ดันมีจุด $(0.7, 2.4)$ และ $(0.9, 2.8)$ เราก็อาจจะตอบว่าค่า $y$ ที่สอดคล้องกับค่า $x=0.8$ ซึ่งเป็นจุดกึ่งกลางระหว่าง $x=0.7$ และ $x=0.9$ น่าจะมีค่า $y$ เป็นจุดตรงกลางระหว่าง $2.4$ และ $2.8$ หรือว่ามีค่าเท่ากับ $\\frac{2.4+2.8}{2}=2.6$ นั่นเอง\n",
        "\n",
        "หากสังเกตตัวอย่างด้านบนทั้ง 2 ตัวอย่าง เราจะเห็นว่าทุกครั้งที่เราจะตอบค่า $y$ เราจะต้องไปไล่ดูจุดข้อมูลในชุดข้อมูลของเรา สมมติว่า $n=1,000,000$ ล่ะ เราจะทำอย่างไรกันดี เราพอจะมีวิธีอะไรบางอย่างที่ช่วยให้เราสามารถตอบค่า $y$ ที่เหมาะสมจากค่า $x$ ใด ๆ ก็ตามได้อย่างรวดเร็วหรือไม่\n",
        "\n",
        "---\n",
        "\n",
        "เนื่องจากข้อมูลใน plot ด้านบน ดูมีลักษณะเป็นเส้นตรง เรามาทดลองใช้โมเดลที่เป็นสมการเชิงเส้น $\\hat{y}=\\hat{w_0} + \\hat{w_1} x$ กันดีกว่า ซึ่งสมการนี้มี\n",
        "* $\\hat{w_0}$ เป็นค่าจุดตัดแกน $y$\n",
        "* $\\hat{w_1}$ เป็นค่าความชันของเส้นตรง\n",
        "* $\\hat{y}$ เป็นค่า $y$ ที่ทำนายมาจากสมการเส้นตรงของเรา สำหรับค่า $x$ ใด ๆ\n",
        "\n",
        "ถ้าเกิดว่าเราสามารถหาค่า $\\hat{w_0}$ และ $\\hat{w_1}$ ที่เหมาะสมออกมาได้ เราสามารถทำนายค่า $y$ เป็น $\\hat{w_0} + \\hat{w_1} x$ จากค่า $x$ ใด ๆ ได้ทันที โดยที่ไม่ต้องไปนั่งไล่ดูจุดข้อมูลทั้ง $n$ จุดในชุดข้อมูลเลย\n",
        "\n",
        "ใน code ด้านล่าง เรามาลองปรับค่า $\\hat{w_0}$ และ $\\hat{w_1}$ กัน เพื่อหาดูว่าค่าที่เหมาะสมมีค่าเป็นเท่าไหร่\n"
      ]
    },
    {
      "cell_type": "code",
      "source": [
        "# เพิ่มแถบสำหรับปรับค่า w1_hat และ w2_hat\n",
        "@widgets.interact(w0_hat=widgets.FloatSlider(0.0, min=-4, max=4),\n",
        "                  w1_hat=widgets.FloatSlider(0.0, min=-4, max=4),\n",
        "                  show_true_line=widgets.Checkbox(False, description='Show true data'))\n",
        "def plot_linear_results(w0_hat, w1_hat, show_true_line):\n",
        "\n",
        "    # คำนวณค่า y จากค่า w0_hat และ w1_hat ที่เราเดามา\n",
        "    y_predicted = w0_hat + w1_hat * x_whole_line\n",
        "\n",
        "    # สร้าง figure\n",
        "    fig, ax = plt.subplots(figsize=(4,4))\n",
        "\n",
        "    # Plot ข้อมูล x, y ที่มีอยู่ด้วยสีน้ำเงิน\n",
        "    ax.scatter(x, y, c='b', label='Observed')\n",
        "\n",
        "    # Plot ข้อมูลค่า y ที่เราทำนายมาที่ตำแหน่งค่า x ต่าง ๆ กัน ด้วยสีแดง\n",
        "    ax.plot(x_whole_line, y_predicted, c='r', label='Predicted')\n",
        "\n",
        "    # Plot ข้อมูลที่ไม่มี noise ด้วยสีดำ ซึ่งในความเป็นจริง เรามักไม่มีโอกาสเข้าถึงข้อมูลตรงนี้\n",
        "    if show_true_line:\n",
        "      ax.plot(x_whole_line, y_true_whole_line, 'k--', label='True')\n",
        "\n",
        "    ax.set(xlabel='x', ylabel='y')\n",
        "    ax.legend()\n",
        "    plt.show()"
      ],
      "metadata": {
        "colab": {
          "base_uri": "https://localhost:8080/",
          "height": 484,
          "referenced_widgets": [
            "fd439cd1320f40dd9de7fd438a0695b7",
            "67d42cc52d164e9d90c4ee8dedc8509d",
            "5f9abe2547d64537aca354943da8db15",
            "630fd268cecd4e188b5fb07f6b71e6fb",
            "cde18e93c5c0419dbace53db5f0a208e",
            "e45d16dc3da947a7a1d28f04ee142322",
            "ab0ec63ffd874e929066ca924435e0ea",
            "659e40030f004e989fbfd87e88a3e749",
            "0c556776c04743e6b3560f9714b6c7c5",
            "0598a0c0d47845e0b1dddd52fe0d7aea",
            "48e62997a29a4d3a85ffc5a218e4121e",
            "ad81c0e35714455caf67b7f2f8cf358f",
            "07df3cbb55964cf287e7d81252c8b402"
          ]
        },
        "id": "sIFdIr5m01fT",
        "outputId": "3ec28ef5-ac5e-4cef-f356-61a669c0ae00"
      },
      "execution_count": 3,
      "outputs": [
        {
          "output_type": "display_data",
          "data": {
            "text/plain": [
              "interactive(children=(FloatSlider(value=0.0, description='w0_hat', max=4.0, min=-4.0), FloatSlider(value=0.0, …"
            ],
            "application/vnd.jupyter.widget-view+json": {
              "version_major": 2,
              "version_minor": 0,
              "model_id": "fd439cd1320f40dd9de7fd438a0695b7"
            }
          },
          "metadata": {}
        }
      ]
    },
    {
      "cell_type": "markdown",
      "source": [
        "จะเห็นได้ว่าเราสามารถลองปรับค่าความชันและจุดตัดแกน $y$ ของเส้นตรงไปเรื่อย ๆ จนมีความสอดคล้องกับชุดข้อมูลที่เราเก็บมา (สีน้ำเงิน)\n",
        "\n",
        "หากเรากำหนดให้ค่า $\\hat{w_0}=1$ และ $\\hat{w_1}=2$ จะพบว่าเส้นตรงสีแดงมีความสอดคล้องกับจุดสีน้ำเงินค่อนข้างดี โดยเส้นตรงนั้นมีสมการคือ $y = 2x + 1$ ซึ่งเป็นเส้นตรงที่มีความชันเป็น $2$ และมีจุดตัดแกน $y$ คือ $(0,1)$\n",
        "\n",
        "ที่ผ่านมาเราเลือกค่า $\\hat{w_0}$ และ $\\hat{w_0}$ โดยการดูว่าเส้นตรงสีแดงที่เกิดขึ้นมานั้น ดูสอดคล้องกับจุดข้อมูลสีน้ำเงินมากน้อยแค่ไหน ซึ่งนับว่าเป็นจากวัดความเหมือนหรือความแตกต่างเชิงคุณภาพ (qualitative) ในลำดับถัดไป เราจะมาลองดูวิธีการวัดความเหมือนหรือความแตกต่างเชิงปริมาณกันบ้าง (quantitative)\n",
        "\n",
        "---\n",
        "\n",
        "เรามาลองใช้ฟังก์ชัน $L(y_{i},\\hat{y_i})$ สำหรับวัดความต่างระหว่าง $y_{i}$ และ $\\hat{y_i}$ ออกมาเป็นตัวเลข 1 ตัว โดยการนำเอาค่าทั้งสองมาลบกันแล้วยกกำลังสอง\n",
        "\n",
        "$$L(y_{i},\\hat{y_i}) = (y_{i} - \\hat{y_i})^2$$\n",
        "\n",
        "*   ถ้า $L(y_{i},\\hat{y_i})$ มีค่าน้อย แสดงว่า $y_{i}$ กับ $\\hat{y_i}$ มีความแตกต่างกันน้อย\n",
        "*   ถ้า $L(y_{i},\\hat{y_i})$ มีค่ามาก แสดงว่า $y_{i}$ และ $\\hat{y_i}$ มีความแตกต่างกันมาก\n",
        "\n",
        "\n",
        "ชุดข้อมูลของเรามีทั้งหมด $n$ จุด ซึ่งหากเราต้องการวัดความแตกต่างในระดับชุดข้อมูล เราก็สามารถเอาค่า $L(y_{i},\\hat{y_i})$ จากแต่ละจุดข้อมูลมาเฉลี่ยกันได้ เกิดเป็นสมการ\n",
        "\n",
        "$$L(Y,\\hat{Y}) =\\frac{1}{n}\\sum_{i=1}^{n}\\left(y_{i}-\\hat{y_i}\\right)^{2}$$\n",
        "\n",
        "โดยในที่นี้เราใช้สัญลักษณ์\n",
        "* $Y$ เพื่อแสดงถึง $y_1, y_2, ..., y_i, ..., y_n$\n",
        "* $\\hat{Y}$ เพื่ออ้างอิงถึง $\\hat{y_1}, \\hat{y_2}, ..., \\hat{y_i}, ..., \\hat{y_n}$\n",
        "\n",
        "หากเราย้อนกลับไปที่ตัวอย่างด้านบนที่เราพยายามปรับค่า $\\hat{w_0} และ \\hat{w_1}$ (จุดตัดแกน $y$ และค่าความชัน ตามลำดับ) แทนที่เราจะวัดผลด้วยตา เราสามารถลองใช้ $L$ สำหรับช่วยในการวัดผล โดยสุดท้ายแล้ว เราจะเลือกค่า $\\hat{w_0} และ \\hat{w_1}$ ที่ทำให้ $L$ มีค่าน้อยที่สุด อย่างไรก็ตาม การทดลองสุ่มค่าไปเรื่อย ๆ ในลักษณะนี้ เป็นวิธีการที่ใช้เวลานานมาก และไม่มีประสิทธิภาพ\n",
        "\n",
        "<br><br>\n",
        "\n",
        "หากเรามองออกว่าโจทย์ที่เราพยายามแก้อยู่ เป็นโจทย์การหาค่าต่ำสุดของฟังก์ชัน $L$ ซึ่งสามารถเขียนในทางคณิตศาสตร์ได้ว่า\n",
        "\n",
        "$$\n",
        "\\min_{\\hat{w_{0}},\\hat{w_{1}}}L(Y,\\hat{Y})\n",
        "=\\min_{\\hat{w_{0}},\\hat{w_{1}}}\\frac{1}{n}\\sum_{i=1}^{n}\\left(y_{i}-\\hat{y_i}\\right)^{2}\n",
        "= \\min_{\\hat{w_{0}},\\hat{w_{1}}}\\frac{1}{n}\\sum_{i=1}^{n}\\left(y_{i}-(\\hat{w_{0}}+\\hat{w_{1}}x_{i})\\right)^{2}\n",
        "$$\n",
        "\n",
        "เราก็สามารถเอาเครื่องมือทางคณิตศาสตร์ (เช่น calculus, สถิติ และ linear algebra) มาแก้โจทย์ข้อนี้ได้ ซึ่งคำตอบที่ $\\hat{w_{0}}$ และ $\\hat{w_{1}}$ ที่ได้รับจากการแก้โจทย์ข้อนี้ ก็คือคำตอบที่ทำให้เส้นตรงของเรามีความแตกต่างจากข้อมูลที่เราเก็บมาน้อยที่สุด หรือพูดอีกอย่างว่ามีความเหมือนที่สุดนั่นเอง\n",
        "\n",
        "\n",
        "**หมายเหตุ** เนื่องจาก $L$ ในที่นี้แสดงถึงความแตกต่าง ซึ่งเราต้องการหาคำตอบที่ทำให้มันมีค่าน้อย (ความสูญเสียน้อย) เรามักจะเรียก $L$ ในบริบทนี้ว่า loss function\n",
        "\n",
        "\n",
        "---\n",
        "\n",
        "เนื่องจากมีผู้เรียนจำนวนหนึ่งยังไม่มีโอกาสได้เรียนเนื้อหาทางคณิตศาสตร์ที่จำเป็นต่อการแก้โจทย์ข้อนี้ (เช่น การใช้ calculus และ linear algebra) เราจะแก้โจทย์ข้อนี้ผ่านการเรียกใช้ `LinearRegression` จากไลบรารี่ `scikit-learn` เลย"
      ],
      "metadata": {
        "id": "cSeTb-gj6aji"
      }
    },
    {
      "cell_type": "code",
      "execution_count": 4,
      "metadata": {
        "colab": {
          "base_uri": "https://localhost:8080/"
        },
        "id": "qSuDsZG0CzjV",
        "outputId": "3d9583cb-b6bd-4d1a-b754-6f9b066f345a"
      },
      "outputs": [
        {
          "output_type": "stream",
          "name": "stdout",
          "text": [
            "True slope 2.00\n",
            "Estimated slope 2.00\n",
            "\n",
            "True intercept 1.00\n",
            "Estimated intercept 0.94\n"
          ]
        }
      ],
      "source": [
        "model_linear = LinearRegression()\n",
        "\n",
        "# ให้โมเดลหาค่า w_0 and w_1 จากข้อมูล (x,y) ทั้งหมดที่มี\n",
        "model_linear.fit(x, y)\n",
        "\n",
        "w0_hat = model_linear.intercept_[0]\n",
        "w1_hat = model_linear.coef_[0][0]\n",
        "\n",
        "print(f\"True slope {w1_true:0.2f}\")\n",
        "print(f\"Estimated slope {w1_hat:0.2f}\\n\")\n",
        "print(f\"True intercept {w0_true:0.2f}\")\n",
        "print(f\"Estimated intercept {w0_hat:0.2f}\")"
      ]
    },
    {
      "cell_type": "markdown",
      "metadata": {
        "id": "PZl_HD6IK_Wj"
      },
      "source": [
        "จะเห็นว่าความชันและจุดตัดแกน $y$ ที่ประมาณจากโมเดล linear regression มีค่าใกล้กับค่าที่เรากำหนดมาตอนสุ่มชุดข้อมูล\n",
        "\n",
        "หลังจากที่เรา fit โมเดลแล้ว (โมเดลได้ทำการประมาณค่า $\\hat{w_0}$ และ $\\hat{w_1}$ เรียบร้อยแล้ว) เราสามารถทำนายค่า $y$ จาก $x_i$ ใดๆ ได้จากสมการ $ \\hat{y_i} = \\hat{w_0} + \\hat{w_1}x_i$ ได้โดยตรง หรือผ่านการเรียกใช้ฟังก์ชัน `predict` ได้เช่นกัน"
      ]
    },
    {
      "cell_type": "code",
      "execution_count": 5,
      "metadata": {
        "colab": {
          "base_uri": "https://localhost:8080/",
          "height": 472
        },
        "id": "s72s_4NWK_oo",
        "outputId": "6c06b93d-23db-42df-d5b3-3762e4592df0"
      },
      "outputs": [
        {
          "output_type": "display_data",
          "data": {
            "text/plain": [
              "<Figure size 640x480 with 1 Axes>"
            ],
            "image/png": "[encoded data removed]"
          },
          "metadata": {}
        }
      ],
      "source": [
        "# ใช้โมเดลทำนายค่า y จากค่า x วิธีที่ 1\n",
        "y_hat = w0_hat + w1_hat*x\n",
        "\n",
        "# ใช้โมเดลทำนายค่า y จากค่า x วิธีที่ 2\n",
        "# y_hat = model_linear.predict(x)\n",
        "\n",
        "# วัด mean squared error จากการทำนาย\n",
        "def mse(y,y_hat):\n",
        "  return np.mean((y-y_hat)**2)/y.shape[0]\n",
        "\n",
        "mse_val = mse(y_true, y_hat)\n",
        "mse_val_noisy = mse(y_true, y)\n",
        "\n",
        "# แสดงผลการทำนาย\n",
        "fig, ax = plt.subplots()\n",
        "ax.scatter(x, y, c='b', label='Observed')\n",
        "ax.set(xlabel='x', ylabel='y')\n",
        "ax.scatter(x, y_hat, c='r', label='Predicted')\n",
        "ax.plot(x_whole_line, y_true_whole_line, 'k--', label='True')\n",
        "ax.legend()\n",
        "ax.set_title(f\"The error as measured by MSE = {mse_val:0.4f} (red) and {mse_val_noisy:0.4f} (blue) with respect to the black dash line\")\n",
        "plt.show()"
      ]
    },
    {
      "cell_type": "markdown",
      "metadata": {
        "id": "ed2kL65NZcOP"
      },
      "source": [
        "จากการสังเกตด้วยตา จะเห็นว่าค่า $y$ ที่โมเดลได้ทำนายออกมา (จุดสีแดง) มีความสอดคล้องกับความสัมพันธ์ระหว่าง $x$ และ $y$ ที่แท้จริง (เส้นประสีดำ) มากกว่าข้อมูลที่เราเก็บมาเสียอีก (จุดสีน้ำเงิน)\n",
        "\n",
        "นอกจากการสังเกตด้วยตาแล้ว ในหลายสถานการณ์ การสรุปความเหมือนหรือความแตกต่างออกมาเป็นตัวเลข 1 ตัว ก็มีประโยชน์ต่อการสื่อสารกับผู้อื่นเช่นกัน\n",
        "\n",
        "ตัวอย่างด้านบนใช้การวัดความแตกต่างโดยใช้ฟังก์ชันที่มีชื่อว่า mean squared error (MSE) หากเรามีข้อมูลอยู่สองชุด\n",
        "(1) $y_1, y_2, ..., y_n$\n",
        "และ\n",
        "(2) $\\hat{y_1}, \\hat{y_2}, ..., \\hat{y_n}$\n",
        "\n",
        "เราสามารถคำนวณค่า MSE ระหว่างข้อมูลสองชุดนี้ผ่านสมการด้านล่าง\n",
        "\n",
        "$$\n",
        "MSE(Y,\\hat{Y})=\\frac{1}{n}\\sum_{i=1}^{n}\\left(y_{i}-\\hat{y_i}\\right)^{2}\n",
        "$$\n",
        "\n",
        "โดยถ้า $y_i$ มีค่าใกล้เคียงกับ $\\hat{y_i}$ สำหรับทุกค่า $i$ จะมีค่า MSE น้อย\n",
        "ในทางกลับกัน ถ้า $y_i$ มีค่าแตกต่างจาก $\\hat{y_i}$ มาก สำหรับทุกค่า $i$ จะส่งผลให้มี MSE ที่สูง\n",
        "\n",
        "MSE เป็นแค่หนึ่งในวิธีสำหรับวัดผล (evaluation metric) เท่านั้น ยังมีอีกหลายวิธีที่ใช้วัดผลออกมาเป็นตัวเลข เช่น mean absolution error (MAE), accuracy, F-score ฯลฯ ซึ่ง evaluation metric แต่ละอัน วัดค่าความเหมือนหรือความแตกต่างด้วยการใช้มาตรวัดคนละตัว ซึ่งมีเหมาะกับสถานการณ์ที่แตกต่างกัน\n",
        "\n",
        "ใน module นี้ เราจะใช้ MSE เป็น evaluation metric ไปก่อน แต่ใน module ถัดๆ ไป เราจะได้เห็น evaluation metric ที่หลากหลายมากยิ่งขึ้น"
      ]
    }
  ],
  "metadata": {
    "colab": {
      "provenance": []
    },
    "kernelspec": {
      "display_name": "Python 3",
      "name": "python3"
    },
    "language_info": {
      "name": "python"
    },
    "widgets": {
      "application/vnd.jupyter.widget-state+json": {
        "fd439cd1320f40dd9de7fd438a0695b7": {
          "model_module": "@jupyter-widgets/controls",
          "model_name": "VBoxModel",
          "model_module_version": "1.5.0",
          "state": {
            "_dom_classes": [
              "widget-interact"
            ],
            "_model_module": "@jupyter-widgets/controls",
            "_model_module_version": "1.5.0",
            "_model_name": "VBoxModel",
            "_view_count": null,
            "_view_module": "@jupyter-widgets/controls",
            "_view_module_version": "1.5.0",
            "_view_name": "VBoxView",
            "box_style": "",
            "children": [
              "IPY_MODEL_67d42cc52d164e9d90c4ee8dedc8509d",
              "IPY_MODEL_5f9abe2547d64537aca354943da8db15",
              "IPY_MODEL_630fd268cecd4e188b5fb07f6b71e6fb",
              "IPY_MODEL_cde18e93c5c0419dbace53db5f0a208e"
            ],
            "layout": "IPY_MODEL_e45d16dc3da947a7a1d28f04ee142322"
          }
        },
        "67d42cc52d164e9d90c4ee8dedc8509d": {
          "model_module": "@jupyter-widgets/controls",
          "model_name": "FloatSliderModel",
          "model_module_version": "1.5.0",
          "state": {
            "_dom_classes": [],
            "_model_module": "@jupyter-widgets/controls",
            "_model_module_version": "1.5.0",
            "_model_name": "FloatSliderModel",
            "_view_count": null,
            "_view_module": "@jupyter-widgets/controls",
            "_view_module_version": "1.5.0",
            "_view_name": "FloatSliderView",
            "continuous_update": true,
            "description": "w0_hat",
            "description_tooltip": null,
            "disabled": false,
            "layout": "IPY_MODEL_ab0ec63ffd874e929066ca924435e0ea",
            "max": 4,
            "min": -4,
            "orientation": "horizontal",
            "readout": true,
            "readout_format": ".2f",
            "step": 0.1,
            "style": "IPY_MODEL_659e40030f004e989fbfd87e88a3e749",
            "value": 0
          }
        },
        "5f9abe2547d64537aca354943da8db15": {
          "model_module": "@jupyter-widgets/controls",
          "model_name": "FloatSliderModel",
          "model_module_version": "1.5.0",
          "state": {
            "_dom_classes": [],
            "_model_module": "@jupyter-widgets/controls",
            "_model_module_version": "1.5.0",
            "_model_name": "FloatSliderModel",
            "_view_count": null,
            "_view_module": "@jupyter-widgets/controls",
            "_view_module_version": "1.5.0",
            "_view_name": "FloatSliderView",
            "continuous_update": true,
            "description": "w1_hat",
            "description_tooltip": null,
            "disabled": false,
            "layout": "IPY_MODEL_0c556776c04743e6b3560f9714b6c7c5",
            "max": 4,
            "min": -4,
            "orientation": "horizontal",
            "readout": true,
            "readout_format": ".2f",
            "step": 0.1,
            "style": "IPY_MODEL_0598a0c0d47845e0b1dddd52fe0d7aea",
            "value": 0
          }
        },
        "630fd268cecd4e188b5fb07f6b71e6fb": {
          "model_module": "@jupyter-widgets/controls",
          "model_name": "CheckboxModel",
          "model_module_version": "1.5.0",
          "state": {
            "_dom_classes": [],
            "_model_module": "@jupyter-widgets/controls",
            "_model_module_version": "1.5.0",
            "_model_name": "CheckboxModel",
            "_view_count": null,
            "_view_module": "@jupyter-widgets/controls",
            "_view_module_version": "1.5.0",
            "_view_name": "CheckboxView",
            "description": "Show true data",
            "description_tooltip": null,
            "disabled": false,
            "indent": true,
            "layout": "IPY_MODEL_48e62997a29a4d3a85ffc5a218e4121e",
            "style": "IPY_MODEL_ad81c0e35714455caf67b7f2f8cf358f",
            "value": false
          }
        },
        "cde18e93c5c0419dbace53db5f0a208e": {
          "model_module": "@jupyter-widgets/output",
          "model_name": "OutputModel",
          "model_module_version": "1.0.0",
          "state": {
            "_dom_classes": [],
            "_model_module": "@jupyter-widgets/output",
            "_model_module_version": "1.0.0",
            "_model_name": "OutputModel",
            "_view_count": null,
            "_view_module": "@jupyter-widgets/output",
            "_view_module_version": "1.0.0",
            "_view_name": "OutputView",
            "layout": "IPY_MODEL_07df3cbb55964cf287e7d81252c8b402",
            "msg_id": "",
            "outputs": [
              {
                "output_type": "display_data",
                "data": {
                  "text/plain": "<Figure size 400x400 with 1 Axes>",
                  "image/png": "iVBORw0KGgoAAAANSUhEUgAAAXsAAAFzCAYAAADfbalmAAAAOXRFWHRTb2Z0d2FyZQBNYXRwbG90bGliIHZlcnNpb24zLjcuMSwgaHR0cHM6Ly9tYXRwbG90bGliLm9yZy/bCgiHAAAACXBIWXMAAA9hAAAPYQGoP6dpAAA2kUlEQVR4nO3dfXgU5bk/8O8kkiWBJEAIr1lIBBS4UEDeBI9KKhasP69gCihgC5ZSLUF5UatYj0CrpNXyJsd3T8GjvKgkgKVSBZoAp4goHCgKRMBEQkAIoU0IYgKb5/fHMEt2M7s7szu7s7Pz/VzXXmt2Z2efgNz77D33cz+SEEKAiIhiWpzZAyAiovBjsCcisgEGeyIiG2CwJyKyAQZ7IiIbYLAnIrIBBnsiIhtgsCcisoFrzB5AJDU0NODkyZNITk6GJElmD4eIKGRCCJw/fx6dOnVCXJzv+butgv3JkyfhdDrNHgYRkeHKy8uRkZHh83lbBfvk5GQA8h9KSkqKyaMhIgpdTU0NnE6nO775Yqtgr6RuUlJSGOyJKKYESk3zAi0RkQ0w2BMR2QCDPRGRDdgqZ6+Fy+XCpUuXzB4GhahZs2aIj483exhEUYPBvpHa2lqcOHEC3M/F+iRJQkZGBlq2bGn2UIiiAoP9FS6XCydOnEBSUhLS09O56MrChBCorKzEiRMn0KNHD87wicBg73bp0iUIIZCeno7ExESzh0MhSk9PR1lZGS5dusRgT1HB5QJ27ABOnQI6dgRuvRWI5P+aDPZeOKOPDfx7pGhSWAjMmAGcOHH1sYwMYOlSIDc3MmNgNQ4RURgVFgJjxngGegCoqJAfLyyMzDgY7ImIwsTlkmf0ajUfymMzZ8rHhZulgn1FRQUeeOABpKWlITExETfccAO++OILs4dlGZmZmViyZInZwzBMrP0+FHt27Gg6o29MCKC8XD4u3CwT7P/1r3/hlltuQbNmzbBp0yYcPHgQCxcuROvWrc0eWlQoLy/HL37xC3Tq1AkJCQno2rUrZsyYgaqqKrOHRmRbp04Ze1woLHOB9o9//COcTieWL1/ufiwrK8vEEakz44r7N998g6FDh+K6667D6tWrkZWVha+++gpPPPEENm3ahF27dqFNmzbhHYQKl8sFSZL89tgmimUdOxp7XCgs86/www8/xMCBAzF27Fi0a9cO/fv3x5tvvun3NXV1daipqfG4hVNhIZCZCWRnAxMmyPeZmeG/AJOXl4eEhAR88sknuP3229GlSxfcdddd2LJlCyoqKvDb3/7Wfez58+cxfvx4tGjRAp07d8bLL7/sfk4IgXnz5qFLly5wOBzo1KkTHn30UffzdXV1ePzxx9G5c2e0aNECQ4YMQXFxsfv5FStWoFWrVvjwww/Ru3dvOBwOvPXWW2jevDn+/e9/e4x5xowZ+NGPfuT++X//939x6623IjExEU6nE48++iguXLjgfv7MmTO45557kJiYiKysLKxcudLAP0Ei47lc8s3fPEuSAKdTnhSGnbAIh8MhHA6HmDNnjti7d694/fXXRfPmzcWKFSt8vmbu3LkCQJNbdXV1k2MvXrwoDh48KC5evBjU+AoKhJAkIeQs3NWbJMm3goKgThtQVVWVkCRJLFiwQPX5qVOnitatW4uGhgbRtWtXkZycLPLz80VJSYl46aWXRHx8vPjkk0+EEEJ88MEHIiUlRXz00Ufi22+/FZ999pl444033Of65S9/KYYNGya2b98ujh49Kl588UXhcDjE119/LYQQYvny5aJZs2Zi2LBh4h//+Ic4fPiwqK2tFe3btxdvvfWW+zyXL1/2eOzo0aOiRYsWYvHixeLrr78W//jHP0T//v3F5MmT3a+56667RN++fcWnn34qvvjiCzFs2DCRmJgoFi9erPp7h/r3SRSKggIhMjKaxoNwxIbq6mqfca0xywT7Zs2aiaFDh3o89sgjj4ibb77Z52t++OEHUV1d7b6Vl5eHJdhfvuz/L1aShHA65eOMtmvXLgFArFu3TvX5RYsWCQDi9OnTomvXrmLUqFEez993333irrvuEkIIsXDhQnHdddeJ+vr6Juf59ttvRXx8vKioqPB4/I477hBz5swRQsjBHoDYt2+fxzEzZswQP/rRj9w/f/zxx8LhcIh//etfQgghpkyZIn71q195vGbHjh0iLi5OXLx4UZSUlAgAYvfu3e7nDx06JAAw2FPU8TXx8745ncZMArUGe8ukcTp27IjevXt7PNarVy8cP37c52scDod7o5JwblgSDVfchcZ+PkOHDm3y86FDhwAAY8eOxcWLF3Httddi6tSpWLduHS5fvgwAOHDgAFwuF6677jq0bNnSfdu2bRuOHTvmPl9CQgJuvPFGj/eYOHEiiouLcfLkSQDAypUrcffdd6NVq1YAgP3792PFihUe5x05ciQaGhpQWlqKQ4cO4ZprrsGAAQPc5+zZs6f79UTRwl+ppSIlBfj4Y6C0NHILqgAL5exvueUWlJSUeDz29ddfo2vXriaN6Cozr7h3794dkiS5A7a3Q4cOoXXr1khPTw94LqfTiZKSErzyyitITEzEtGnTcNttt+HSpUuora1FfHw89uzZg3379rlvhw4dwtKlS93nSExMbLJ6ddCgQejWrRvWrFmDixcvYt26dZg4caL7+draWjz00EMe592/fz+OHDmCbt26BfknQxR5gSZ+AFBTAzzwALBhQ2TGpLBMNc6sWbMwbNgwLFiwAOPGjcPu3bvxxhtv4I033jB7aKZecU9LS8Odd96JV155BbNmzfLo6/Pdd99h5cqV+PnPf+4OwLt27fJ4/a5du9CrVy/3z4mJibjnnntwzz33IC8vDz179sSBAwfQv39/uFwunDlzBrcGcTVp4sSJWLlyJTIyMhAXF4e7777b/dxNN92EgwcPonv37qqv7dmzJy5fvow9e/Zg0KBBAICSkpImF32JzKZ1QldZKa+eXbs2grP70DNGkfOXv/xF9OnTRzgcDtGzZ0+Pi4da+MttGZGz95WnC2fOXgghvv76a9G2bVtx6623im3btonjx4+LTZs2iT59+ogePXqIqqoqIYQQXbt2FSkpKeKPf/yjKCkpEf/1X/8l4uPjxd/+9jchhJxzf+utt8SBAwfEsWPHxDPPPCMSExPF2bNnhRBCTJw4UWRmZoqCggLxzTffiM8++0wsWLBAbNy40f361NRU1TEeOXJEABA33nijmDJlisdz+/fvF4mJiSIvL0/83//9n/j666/F+vXrRV5envuYUaNGif79+4tdu3aJL774QvzHf/wHL9BSWFy+LERRkRCrVsn3ev7dFhUFztUbHRdi7gKtEcIV7IW4elHGO+CHuxpHUVZWJiZNmiTat28vmjVrJpxOp3jkkUfcgVoIOdjPnz9fjB07ViQlJYkOHTqIpUuXup9ft26dGDJkiEhJSREtWrQQN998s9iyZYv7+fr6evHss8+KzMxM0axZM9GxY0dx7733in/+859CCP/BXgghBg8eLACIv//9702e2717t7jzzjtFy5YtRYsWLcSNN94onn/+effzp06dEnfffbdwOByiS5cu4n/+539E165dGezJUGpVNBkZ2v/9Bpr4qd2KikIbs9ZgLwlhn506ampqkJqaiurq6iYXa3/44QeUlpYiKysLzZs3D+r8ap3tnE5gyZLIXoghY/4+yV6UhmXeEVG5BKU15eLrPL6sWgWMH69vrI35i2uNWeYCrRXk5gJlZUBRkfwXWFQU+SvuRKSfkQ3LcnPlD4a2bbW9dyRWzwIM9oaLjweGD5c/qYcPj+zmBEQUHK3l08uWaQ/4FRVymaU/aWkRWj0LBnsiIs1VNLNmaW+BEh8PNGsW0rAMxWBPRLanJ5WiddORHTuAQE1nq6oi094YYLAnIsKtt8rbBGrZzVJrDj+a2hsDDPZERIiPl/eDBbQH/EAtUNq10/bevEBLRBRBShVN587aX+NrVl5YCEye7P+1EW1vDAZ7IiI3pXx68WJtx6vNyn1tMN6Y8u1hyZLIVewx2JMmkydPxujRo90/Dx8+HDNnzoz4OIqLiyFJEvviUNjExwOPPOI/h+9rVq6l6yUgf3uIaF8cMNhb3uTJkyFJEiRJQkJCArp3747f/e537tbE4VJYWIjf//73mo5lgCarCZTDFwL45S+bPq6l6yUArFgR+cWWDPYxYNSoUTh16hSOHDmCxx57DPPmzcOLL77Y5Lj6+nrD3rNNmzZITk427HxE0SZQDn/u3KY191ora86cCXl4ujHYxwCHw4EOHTqga9eu+PWvf40RI0bgww8/dKdenn/+eXTq1AnXX389AKC8vBzjxo1Dq1at0KZNG+Tk5KCsrMx9PpfLhdmzZ6NVq1ZIS0vDb37zmyabo3incerq6vDkk0/C6XTC4XCge/fu+O///m+UlZUhOzsbANC6dWtIkoTJV65cNTQ0ID8/H1lZWUhMTETfvn2xdu1aj/f56KOPcN111yExMRHZ2dke4yQKNyWHP3+++vPeNffRtMG4N8v0s484IYDvvzfnvZOStNV/+ZCYmIiqK6s5tm7dipSUFGzevBkAcOnSJYwcORJDhw7Fjh07cM011+C5557DqFGj8M9//hMJCQlYuHAhVqxYgT//+c/o1asXFi5ciHXr1nlsEO7t5z//OT799FO89NJL6Nu3L0pLS3H27Fk4nU4UFBTgpz/9KUpKSpCSkuLuuZ+fn493330Xr732Gnr06IHt27fjgQceQHp6Om6//XaUl5cjNzcXeXl5+NWvfoUvvvgCjz32WNB/LkTBevNN9ceFkP+pzpwJ5ORcrdevqFDP20uS/HykKnA8hNZc01p0tTiurdXeo9ToW22t5t9p0qRJIicnRwghRENDg9i8ebNwOBzi8ccfd7c8rqurcx//zjvviOuvv140NDS4H6urqxOJiYni448/FkII0bFjR/HCCy+4n7906ZLIyMhwv48QQtx+++1ixowZQgjh3iN28+bNqmMsKioSANx7zgoh7w+clJQkdu7c6XHslClTxPjx44UQQsyZM0f07t3b4/knn3yyybnUsMUxGUVrj3qlVXGk251rbXHMmX0M2LhxI1q2bIlLly6hoaEBEyZMwLx585CXl4cbbrgBCQkJ7mP379+Po0ePNsm3//DDDzh27Biqq6tx6tQpDBkyxP3cNddcg4EDB/rc53bfvn2Ij4/H7bffrnnMR48exffff48777zT4/H6+nr0798fgLylYuNxAE330CUKN70rYZVcv3e784wMc9udM9j7kpQE1Naa9946ZGdn49VXX0VCQgI6deqEa665+tfaokULj2Nra2sxYMAArFy5ssl5tOxTq6bxVoha1V75s/3rX/+Kzl5XwBwOR1DjIPLF5ZIrZU6dkvPlt96qvb49mDx8bq6c1gn2PcOBwd4XSQK8AmW0atGihc/9W73ddNNNeO+999CuXTufGx107NgRn332GW677TYAcO//etNNN6kef8MNN6ChoQHbtm3DiBEjmjyvfLNwNWok0rt3bzgcDhw/ftznN4JevXrhww8/9HjMew9dokDUNhXKyJBLK7XMsoPNwyvtzqMFq3FsZuLEiWjbti1ycnKwY8cOlJaWori4GI8++ihOXPnXMGPGDPzhD3/A+vXrcfjwYUybNs1vjXxmZiYmTZqEX/ziF1i/fr37nO+//z4AoGvXrpAkCRs3bkRlZSVqa2uRnJyMxx9/HLNmzcLbb7+NY8eOYe/evVi2bBnefvttAMDDDz+MI0eO4IknnkBJSQlWrVqFFStWhPuPiGKIr9WsWjtXAv5r7s1YCRssBnubSUpKwvbt29GlSxfk5uaiV69emDJlCn744Qf3TP+xxx7Dz372M0yaNAlDhw5FcnIy7r33Xr/nffXVVzFmzBhMmzYNPXv2xNSpU3HhwgUAQOfOnTF//nw89dRTaN++PaZPnw4A+P3vf4///M//RH5+Pnr16oVRo0bhr3/9K7KysgAAXbp0QUFBAdavX4++ffvitddew4IFC8L4p0OxJBy7T3nX3LdtC7z/vjV2o+MetFdwz9LYwr9PKi4Grizx8KuoSHu65YMPgGnTgLNnrz6mJyUUDtyDlohszeh+8oWFwH33eQZ6QF9KyEwM9kQUk4xczWpkSsgsDPZEFJO07D6Vng4MGxb4XFo3JI/UFoPBYLAnopikZfepykqgW7fAKZho22IwGAz2RBSztOw+pSXnHs0NzrRisPdio+KkmMa/R1Lk5gLHjsllkmq05NwDpYQivcVgMBjsr4i/siLCyJ7vZB7l7zE+2le6UETs3Nm0iqaxQDn3WFhYxXYJV1xzzTVISkpCZWUlmjVrhrg4fg5aVUNDAyorK5GUlOTRJ4jsy4ice7Q2ONOK/xKukCQJHTt2RGlpKb799luzh0MhiouLQ5cuXSCFsC8AxQ6jcu7R2OBMKwb7RhISEtCjRw+mcmJAQkICv52Rm5ZmZp07yzn71av9B/Foa3CmFYO9l7i4OC6vJ4oxSs59zBg5sDcO+MrPFy8CjZu2mt0GwWic+hCRLfgqw2zTRr6/spOnm1XaIGjFRmhEFFMCbVTS+Pl27YBJk+TArkbpVV9aGr15eTZCIyLbKSwEMjPlbpcTJsj3mZmes3Ml5z5+vPzfvgI9YI02CFoxZ09EluQ9gz97Fhg3rukFWCUds3Zt0/x7LLRB0IrBnogsR22rwfh4310pJUleIZuT45mOiYU2CFoxjUNEluJrq0F/7YV9pWNioQ2CVgz2RGQZ/vrKa7Fhg+fPsdAGQSsGeyKyjEB95QNZsqRpKaWvksyMDPU8v1UxZ09ElmHEhVK13L2V2yBoxWBPRJZhxIVSJXfv3fLAqm0QtGIah4gsQ8tWg1rEQimlXgz2RGQZ8fHA4sW+m5lpFQullHpZNtj/4Q9/gCRJmDlzptlDIaIIKSwEZs1Sf65zZ2DevKu9btTEUimlXpbM2X/++ed4/fXXceONN5o9FCKKEKW+3lfZ5cWLcrD3JdZKKfWy3My+trYWEydOxJtvvonWrVubPRwiigAt9fXeXSu9xVoppV6WC/Z5eXm4++67MaJx42kiimmh1te3bQssWmTfQA9YLI2zZs0a7N27F59//rmm4+vq6lBXV+f+uaamJlxDI6IwCrV6RmmSxpm9BZSXl2PGjBlYuXKl5p2k8vPzkZqa6r45nc4wj5KIwsGo6pmZM/330Illltm8ZP369bj33nsR3+jKisvlgiRJiIuLQ11dncdzgPrM3ul0cvMSIotxueS+9L72kNWjqCi2Fk9p3bzEMmmcO+64AwcOHPB47MEHH0TPnj3x5JNPNgn0AOBwOOBwOCI1RCIKk8Z7yIbKjguqAAsF++TkZPTp08fjsRYtWiAtLa3J40QUe5SGZQ8/DFRWBn8eOy6oAiyUsyciys2Vq3LattX/WjsvqAIsNLNXU1xcbPYQiCjCEhKA11+/mtLRksO3+4IqgDN7ImrE5QKKi4HVq+X7aK1cUVI6/lojNGb3BVUAgz0RXVFYKFe8ZGcDEybI95mZTTf78CeSHxY5OUBiov9j0tKALVuA0lJ7B3qAwZ6I4Htf14oK+XEtAd+IDws9tKyqraqS0zZ2Td00xmBPZHP++s4ojwVajGTEh4VeWkso7Vpq6Y3BnsjmAs2Qhbi6u5MaIz4sGp9LaxpIawmlXUstvTHYE9lcqDPkUD8sFHrTQIF2rbJ7qaU3Bnsim9M68z14UH22bUQ6JZg0kLKqFmga8Flq2RSDPZHNad3X9bnn1GfboaZTQkkDKSWYnTt7Ps5Sy6Ys0wjNCFobBhHZjTKzBrQ3GvvgA/k1gZqUSZIcfEtL1WfZxcXyh0gg/hqYuVxymujUKflD5dZb7TOj1xrXOLMnIp8zZH/uv18O+KGmU4xIA8XHyx8E48fL93YJ9How2BMRADngl5XJM+hnngl8vMslbwhSWBg4nZKT47vKhlU1kcFgT0Ruygy5d2/tr1Hy6Y0/LFatku9LS+Vj/FXZsKomMhjsiagJPbPoxmWV3umUDRvUq2xOnLhaZcOqmshgsCciAJ4Lmlwuffl7tXy6vyobQH688bcCVtWEl6VbHBORMQoL5cDceAaelqb99WrfBLT0rlG+FQwfLgf0nBz7VtWEG4M9kc0pZZfeM/Bz5+T7uDigoUH9tUpZpVo+vaJC2/s3Pk5JA5HxmMYhsrFAC5okCWjdWv21gfLpWrcODGWLQdKOwZ7IxrT0tamqAubPl2fwjQXKp6enaxuD1uMoNEzjENmY1gVNPXoAx44Br7wi33frBkybJm8R6IvWC7x6LgRT8BjsiWxMa4nlkSNygG/8LWDhQrlk0tfMXqmf9/fNgfXzkcM0DpGNaVnQlJYGzJ2rryOl0qtG6bejdl5JYv18JDHYE9mYlgVNvvjqSNm4L/2SJVffpzHWz0cegz2Rzflb0DRvnnyB1hfvjUl89aVXSjdnzrzaRoGBPrIY7InIZ1+bHj20vf7UKW1lnAUFXChlFl6gJSIA6gua9HSk1LM9IRdORR5n9kTkk56OlEb0pafwYbAnIp/0dKRkX/roxmBPRH5p7UjJvvTRjTl7IgpIS0dK5VvAmDFyYG98oZZ96c3HYE9EmmjpSKl8C/Bul5yRIQd6lluah8GeKAYpK1jN6AvPvvTRicGeKMaobUSSkeG/j43R2Jc++vACLVEM8bWC1V8fG7IHBnuiGBFoBSvQtI8N2QeDPVGM0LOCleyHOXuiGKF1ZWpFBVBcbOzFUzMvCJM2DPZEUSLUgKl1ZeqsWZ77voZ68TYaLghTYAz2RCbwDuyVlcDs2cEFTOVcFRVA27bA2bP+j/fe4Fu5eBtMf3nlgrD3dYJQzknhIQmhdjknNtXU1CA1NRXV1dVISUkxezhkU2ozYTXKqlN/AVPruQKRJPnDpbRU+7cJl0vepMTXewdzTtJPa1zjBVqiCPJVGqkmUAWNnnOlpwd+L70Xb3lB2FoY7IkixF9ppC++Amagc0mSHODffVfeiGTxYm3vp6f98IYNxp+TwofBnihCAs2E/fEOmFpm1ZWVcqfK4cObdqz0RetFXpcLWLnS2HNSeDHYE0VIKDNc74Cpd6MQo9sP79jR9EKvmvR0tjSOFgz2RBESzAzXVxDWu1GInk1ItND6YTNxIi/ORgsGe6IICTS79uYvCGs5V3o6MGzY1Z+1bkKihdYPm5wc7eek8LJMsM/Pz8egQYOQnJyMdu3aYfTo0SgpKTF7WESa+Ztdq/EXhLWcq7IS6NbNs/lZbi5QViZftF21Sr4vLdVfC89dqazHMnX2o0aNwv33349Bgwbh8uXLePrpp/Hll1/i4MGDaNGihaZzsM6eooFabbzTCSxaJC+K0rOCNlCdvZZa/WAppZ+A+q5UXFAVGVrjmmWCvbfKykq0a9cO27Ztw2233abpNQz2FC2M7CVTXy+nZnytnFUWNx09CuzcaWz/Gl8fXNyVKnK0xjXLtkuorq4GALRp08bnMXV1dairq3P/XFNTE/ZxEWlh5OYeO3f6b5Gg1OpnZKj3xAllVynuSmUdlgz2DQ0NmDlzJm655Rb06dPH53H5+fmYP39+BEdGFHlaK2PUeuL89KdAWhpQVXX1cb1NzLgrlTVY5gJtY3l5efjyyy+xZs0av8fNmTMH1dXV7lt5eXmERkgUOcEuWlISuI0DPcBdrWKV5XL206dPx4YNG7B9+3ZkZWXpei1z9hQtjMzZKw3JKir0tWLwh03MrCPmGqEJITB9+nSsW7cOf//733UHeqJoUVgoB+fsbGDCBPk+MzP4mbTekk4t2MQs9lgm2Ofl5eHdd9/FqlWrkJycjO+++w7fffcdLl68aPbQiDQL14bgvhZMBep2GQibmMUOy6RxJB9TluXLl2Py5MmazsE0Dpkp2P7velI+3scOGyYvrAo2xVNUxIuv0S7mSi8t8plE5JOe/u/Dh8uB+/nn5RTNuXNXj/NXLaNWGbN0qfytQZK0B3zlg4crYGOHZdI4RFanp1NlYSHQvj0wd65noAf0p3x8pXjS0uR7IxqjUfRjsCeKEK0lkkeOyPXv3iWRCu8drFwuoLgYWL1avlfb1UqtJ87p00BBgTGN0Sj6WSZnbwTm7MlMgUokJUkOvELIx2gxfz7w5pvBbVTeeFxcAWtdMd8bJxgM9mS2QM3D5s2TUzehYCMye4m5OnuiWBCop3yPHqG/R6CNysmeLFONQxQr/DUPKy425j28K3uIGOyJTOCreZiyKYhRrQ+4KIoUTOMQRREtrQ/S0uQLs1oE2ySNYg+DPVEAWkobjXydr7x+mzZykD99Gvjtb7ktIOnDNA6RH2o7MWkpbQz2dQotm4L4WhnLRVGkhqWXRD4oZZLe/0IClTYG+7pgx8htAe2NdfYqGOxJq1CalgXzulDHykVR9hVzjdCIIklv07JQXxcKbgtIWvACLZEKPU3LjHgdUbhxZk+kQmvJovdxwb6uMaZlKBw4sydSoSxu0lvaGOzrFEZvWUik0B3sJ02ahO3bt4djLERRw9/iJn+ljcG+DgjfloVEQBDBvrq6GiNGjECPHj2wYMECVGjtxUpkMYGalvkqbQzmdS6XXEKpVhvHxmZkhKBKLysrK/HOO+/g7bffxsGDBzFixAhMmTIFOTk5aNasWTjGaQiWXsaucOa5gz23ntcVF8spm0C4Jyx5i1id/d69e7F8+XK89dZbaNmyJR544AFMmzYNPYzo1WowBvvYFOpq1WiwerWcow9k1Spg/Pjwj4esIyL97E+dOoXNmzdj8+bNiI+Px09+8hMcOHAAvXv3xuLFi0M5NZEmVstz++qXY0QVD5FfQqf6+nqxdu1acffdd4tmzZqJAQMGiFdffVVUV1e7jyksLBStWrXSe+qwq66uFgA8xkrWdfmyEBkZQshZ7aY3SRLC6ZSPiwYFBU3Hm5EhP678LpJkjd+FoofWuKa7zr5jx45oaGjA+PHjsXv3bvTr16/JMdnZ2WjVqlXIH0RE/hi9WjWceX9f/XKUbyBr17KxGYWX7mC/ePFijB07Fs2bN/d5TKtWrVBaWhrSwIgCMXK1ajjz/oEqbSRJrrQpLZWDvto42NiMQqU72P/sZz8LxziIdDMqzx1o1j1vnrw3bLCzfT3fQLS0NiYKBtslkGUF2sJP6TDpbwMPLfXtc+defSyY2b7ebyBsbEbhwHYJZFmhrFZVBJp1ewumyoeVNhQNGOzJ0oJd5arQ230ymNWsofbLITICgz1ZXm4uUFYmry5dtUq+Ly3VlmoJZjbdOMeuhRHfQIhCxWBPMUHJc48fL99rDZyBZt3+6PlWEOo3EKJQMdiTrfmbdQdy8KDnKthAQvkGQhQq7kFLMSOURVFqdfZaWa0PD8UW7kFLthLMoijvD4djx4CdO+WfjxyRSy69V7OqabwKlgGfohXTOGR5wTRDU9sRqls34Nw5Oe//7LNAQUHTHLsa9psnK2CwJ0sLZtMPrR8OjXPszzzjfxx6K3SIIo3BnixNTysCQP+Hg1Ll07u3tvHordsnihQGe7I0va0I9H44KLgKlqyOwZ4sTW8QDrZTJlfBktUx2JOl6Q3Cwc7QuQqWrI7BnixNbxAOZYbOVbBkZQz2ZHl6gnCoM3SugiWr4gpaihl6VtD6WoQ1dWpoG5UQRZrWuMZgT7bV+MPhyBHgzTfDsy0hUThpjWtM45BtKTX0Doe89aCeFbhEVmO5YP/yyy8jMzMTzZs3x5AhQ7B7926zh0QWFswKXCIrslSwf++99zB79mzMnTsXe/fuRd++fTFy5EicOXPG7KGRRQW7yIrIaiwV7BctWoSpU6fiwQcfRO/evfHaa68hKSkJf/7zn80eGllUsIusXC65l/3q1fp62hOZxTItjuvr67Fnzx7MmTPH/VhcXBxGjBiBTz/9NHxvLATw/ffhOz+ZqnMrIEnjcbgg//eGDcATTwAVJxs93wl48UUgJ8f4MZLNJCUFt3VaAJYJ9mfPnoXL5UL79u09Hm/fvj0OHz6s+pq6ujrU1dW5f66pqdH/xt9/D7Rsqf91ZAm3wR3D/fvJ1f/MuXLzcBLARIMGRfZWWwu0aGH4aS2VxtErPz8fqamp7pvT6TR7SEREprDMzL5t27aIj4/H6dOnPR4/ffo0OnTooPqaOXPmYPbs2e6fa2pq9Af8pCT5k5ZimlpqJqMz8MILV1Mz27cDd/1E/fWNbfoIuO228IyTbCBJS2JRP8sE+4SEBAwYMABbt27F6NGjAQANDQ3YunUrpk+frvoah8MBh8MR2htLUli+UlF0yZkA/L/7/K/Arfg3oOXqTcW/AfB/GYoylgn2ADB79mxMmjQJAwcOxODBg7FkyRJcuHABDz74oNlDoxigLLLyhT3tycosFezvu+8+VFZW4tlnn8V3332Hfv364W9/+1uTi7ZE4aB0zKyoUF+EJUny8+xpT9GIvXGIAvDuoTNvnvx44385SqUcWx1TpGmNa5aa2ZP59HSWjAVq3THT0uT7qqqrj2VkyK2RGegpWjHYk2a+2gJbpTOk3g+qwkK5EZr3d99z5+TH5s9nO2SyDqZxSBNfgc8q6Qu9H1QuF5CZ6btvjpKfLy1lkCdzscUxGcbqnSGVDyo9LYzZII1iDYM9BWTlwBfsB1WwDdKIohWDPQVk5cAX7AcVa+op1vACLQVkduALpQIo2A8q1tRTrGGwp4AiGfi8A/vZs8CsWcFXAAX7QRUfL7/HmDHy76dWU79kCS/OknUwjUMBKYEPaNpm28jAV1goV8BkZwMTJsj3Y8eGtjes8kHlqz24JAFOp/oHVW6uXGXUubPn4xkZ0V99ROSNpZekmVr5otNpzGIiX6WdvugpfVTODQS36tVuC8nIWrTGNQZ70iUcgS9QTbs/RUX+m5cpwvlBRWQmtkugsAjUGdIfXx8UgSpm/NF6ATY3V+5Lzxk62RWDPUWEvxWsjXaO1E1PBVAoH1REVscLtBR2gVawlpToP6e/C6tE1BSDPYWVlhWsr7yi75wsfSTSj8GewkrLCtbKSn3nZOkjkX7M2VNYGdlC4YEHgClTeGGVKBgM9mQo74qbdu2MO/eoUbzAShQsBnsyjK+Km7S0qxt+eJMkoG1bbakc75WsRKQdc/ZkCH8VN1VVcqD31WrhlVfkDwV/WHlDFBoGewpZoIobSZJn9506eT6nXGgdM0aut/fXv4aVN0ShYRqHQqal4qaqCtiyRQ7YaitYc3OB994Dpk2TO10q2NKAyBgM9hQyrRU3Z84A48erP1dYCMye7Rno09OBRYsY6ImMwDQOhSzUzU185fvPngXGjdPWypiI/GOwp5AF2zPe5QK2bgWmTrXuZuZEVsFgTyELZnMTZaOSESPkskxfonkzcyIrYbAnQ+jZ1clX2safaNzMnMhKeIGWDKOlZ7y/Mk1/wrWZOZFdMNiToQL1jNe7UYmRm5kT2RnTOBRRetIxbGVMZBwGe4ooPekYtjImMg7TOBRRSplmRYXvvH2bNsD778vpIM7oiYzBmT1FVKAyTUkC3nwTuOMOBnoiIzHYUxMuF1BcDKxeLd8bvaBJT5kmERmDaRzy4Ksn/dKlxgZhLWWaRGQcSQi9Fc/WVVNTg9TUVFRXVyMlJcXs4UQdZbGT9/8RSrqFs26i6KM1rjGNQwAC96QH2KOGyMoY7AmAtp70RveoCfe1ASK6ijl7AqB9sZNRPWoidW2AiGSc2RMA4MgRbccZ0aPG3361Y8awfz1RODDYE1wuubY9ECN61PDaAJE5GOxJc3OyqVNDL40049oAETHYE7Tn4Xv0iNx7sX89kbEY7CnkPWSj9b2I6CoGewp6D9lofy8iusoSwb6srAxTpkxBVlYWEhMT0a1bN8ydOxf19fVmDy0mBLOHrBXei4iuskSwP3z4MBoaGvD666/jq6++wuLFi/Haa6/h6aefNntoMSOSzcnYCI0o8izbG+fFF1/Eq6++im+++Ubza9gbJzCXK3LNySL5XkSxSmtcs+wK2urqarRp08bvMXV1dairq3P/XFNTE+5hWV6gPWSt+l5EdmeJNI63o0ePYtmyZXjooYf8Hpefn4/U1FT3zel0RmiERETRxdRg/9RTT0GSJL+3w4cPe7ymoqICo0aNwtixYzF16lS/558zZw6qq6vdt/Ly8nD+OjGDDcqIYo+pOfvKykpUVVX5Pebaa69FQkICAODkyZMYPnw4br75ZqxYsQJxcfo+q5izD4wNyoisRWtcs8wF2oqKCmRnZ2PAgAF49913ER/ElbxoDfZGXqhUOxeg7fy+Ni9RvP8+MHZscOMiovCIqQu0FRUVGD58OLp27Yo//elPqKysdD/XoUMHE0cWOiNn0mrnSkuT7xt/gVI7v78GZYr77wcOHgSuu47VM0SWIyxg+fLlAoDqTY/q6moBQFRXV4dppPoUFAghSULIIfbqTZLkW0FB6OdSu6mdv6hI22sb3zIy9I2RiIynNa5ZJo1jhGhK47hcQGam7w6QkiTPwI8eBXbu9J+CCXQuf+cvLZXPt3o1MGGCvt+Be9MSmY970EY5ra1+O3cGsrPlQJydLQd17809tLYoVju/0ko4mMZj7D9PZB0M9ibR2sL37FnPn9V2cwqlHbDyWqVBmV7sP09kDQz2Jgm2ha/abDqUdsDKaxs3KAsG+88TRTcGe5MEavXrj/dsOthzebcSzs2VyyuDqbBh/3mi6MZgbxJ/rX61UmbTwZ7r/vubBvaxY4E1a7Sfg/3niayBwd5Evlr9pqdre33j2bSvc/mzZo36hdUxY4CCgsA5fPafJ7IOll5GAe9Vr8OGAd26yRdj1f52vMsm1c61dSvw3HOB37uoyHfnSaVHTnExcPiwfN/4grHTKQd6ll0SmSemVtDGOrVWv0uXyjNsSfIM+IFm08q5jNjYe8OGpity09OBiROBnByuoCWyEqZxopRysbRtW8/Hte7mFOrG3kqfHO/6/bNn5Q+ic+cY6ImshME+ShUWArNmAY3aAKFtW2DhQm1pk1A29vbXJ4cLqYisicE+CvmaVVdVAffd13QFrZpQNvbWurqXC6mIrIPBPsoYOasOdmNvI/L9RBRdeIE2yuiZVWvZvzU3V76Yqqdffqj5fiKKPgz2USYcs2q9G3sr+f5ApZ9cSEVkHQz2YaZ3FyojZtWh7nyl5PuDKf0koujEnH0YFRbKLYkDtShuLJQqmmDfU02w+X4iik5cQRsmvvZz1bLhh/JaQH1W7eu1obynL0buj0tExou5DceNEKlgr3UXKn/tDjZsAN59V3t7glDek4isi+0STKS1oqa4GLjjjquPq20YrrU9gdFVPEQUW5izDwOtlTLjxskB3uUCfvc74Kc/Db49AWvjicgfzuzDQGtFzblzcoBPTAQuXlQ/Rgg5BTNzpjy79xXwWRtPRP5wZh8GeneO8hXoFVraE4RaxUNEsY3BPgxC3c/VF38pmFB64RBR7GOwD0DZwGP1avlea6dHpU69TRvjxhIoBcPaeCLyhaWXfqhVx2RkyDNorYFz61ZgxIggB3yF3rJJ1sYT2Qfr7FXoCfZGLVBS6t999ZnRQpI4MycidVrjGtM4KoxsMxxq/p4pGCIyAoO9CqM371By6RkZ+sYxfz5QVsZAT0ShY7BXEY4FSrm5cuCeP1/b8WlpwFNPyR8oei8OExF546IqFeFaoBQfDzz7rPzfc+f6P7aqSq6qadwbJyMDWLRIbqHAi69EpAeDvYpwb97Ro4e24xoHekBOLY0b5/mY3uogIrInpnFUhHuBkpEtCyoq5Kohvf3qicheGOx9COcCJeWbgxH0VgcRkT0x2PuhXFQtKgJWrZLvS0v1BXq1Fbjx8cD48caNU291EBHZD3P2AejdrLsxXytwFy2Sg7/R2L6YiHxhsA8Dlwt4/nn1ipuKiqYXWY3C9sVE5AuDfQB6+8yozeYbC0dzilCrg4go9jHY+6G3EZqvfjrhxPbFRKQFL9D6oARu7xm6r1JHf/10QvHMM1cvDn/wQdMqHvbOISIt2PVShdKp0lcqRq3lcHExkJ1t+JCxZYvnpuRsX0xEjbHrZQiCaYSmtxKmbVugZcvAx02e7PktQqkOGj9evmegJyItGOxVBNMITW8lzNmzQG1t4OO4QpaIjMBgryKYRmjefWyMwhWyRGQEBnsVSjsD7744CkkCnM6rpY719cC0aYHPm5wc3Hi4QpaIQmW5YF9XV4d+/fpBkiTs27cvLO+hpxFaYaHcP6eyMvB5z58PbVxcIUtEwbJcsP/Nb36DTp06hf19tDRCU8ozw5XC8cYVskQULEstqtq0aRM++eQTFBQUYNOmTWF/v9xcICdHvdQxXHX1arhClohCZZlgf/r0aUydOhXr169HUlJSxN7XVyO0QOWZjUmS/A1BCODkSf8fEJLk+TxXyBKRESyRxhFCYPLkyXj44YcxcOBAza+rq6tDTU2Nx80oevPnS5cCL70k/7fadQBJAp54Ijz984mITA32Tz31FCRJ8ns7fPgwli1bhvPnz2POnDm6zp+fn4/U1FT3zel0GjZ2rfnz9PSrwTrQdYAXXgi9fz4RkRpT2yVUVlaiqqrK7zHXXnstxo0bh7/85S+QGk2JXS4X4uPjMXHiRLz99tuqr62rq0NdXZ3755qaGjidzoDLirVQWir42qcWkAP9iRNAQkLT17LlAREZQWu7BEv0xjl+/LhHCubkyZMYOXIk1q5diyFDhiBD4x5/Wv9QtFKqcQD1PDvTL0QUblrjmiUu0Hbp0sXj55ZXmsp069ZNc6APByUto9YGeckSBnoiih6WCPbRzF95JhFRtLBksM/MzEQ0ZZ9C2aeWiCgSLFF6SUREoWGwJyKyAQZ7IiIbYLAnIrIBBnsiIhtgsCcisgFLll4GSynXNLIhGhGRmZR4Fqgc3VbB/vyVraKMbIhGRBQNzp8/j9TUVJ/PW6I3jlEaGhpw8uRJJCcnezRVizZKw7by8nJDevhEm1j//YDY/x35+0UPIQTOnz+PTp06IS7Od2beVjP7uLg4U3vp6JWSkhL1/6OFItZ/PyD2f0f+ftHB34xewQu0REQ2wGBPRGQDDPZRyOFwYO7cuXA4HGYPJSxi/fcDYv935O9nPba6QEtEZFec2RMR2QCDPRGRDTDYExHZAIM9EZENMNhHsbKyMkyZMgVZWVlITExEt27dMHfuXNTX15s9NEM9//zzGDZsGJKSktCqVSuzhxOyl19+GZmZmWjevDmGDBmC3bt3mz0kw2zfvh333HMPOnXqBEmSsH79erOHZKj8/HwMGjQIycnJaNeuHUaPHo2SkhKzh2UIBvsodvjwYTQ0NOD111/HV199hcWLF+O1117D008/bfbQDFVfX4+xY8fi17/+tdlDCdl7772H2bNnY+7cudi7dy/69u2LkSNH4syZM2YPzRAXLlxA37598fLLL5s9lLDYtm0b8vLysGvXLmzevBmXLl3Cj3/8Y1y4cMHsoYVOkKW88MILIisry+xhhMXy5ctFamqq2cMIyeDBg0VeXp77Z5fLJTp16iTy8/NNHFV4ABDr1q0zexhhdebMGQFAbNu2zeyhhIwze4uprq5GmzZtzB4Gqaivr8eePXswYsQI92NxcXEYMWIEPv30UxNHRsGqrq4GgJj4N8dgbyFHjx7FsmXL8NBDD5k9FFJx9uxZuFwutG/f3uPx9u3b47vvvjNpVBSshoYGzJw5E7fccgv69Olj9nBCxmBvgqeeegqSJPm9HT582OM1FRUVGDVqFMaOHYupU6eaNHLtgvkdiaJJXl4evvzyS6xZs8bsoRjCVi2Oo8Vjjz2GyZMn+z3m2muvdf/3yZMnkZ2djWHDhuGNN94I8+iMofd3jAVt27ZFfHw8Tp8+7fH46dOn0aFDB5NGRcGYPn06Nm7ciO3bt1uqLbo/DPYmSE9PR3p6uqZjKyoqkJ2djQEDBmD58uV+NyeIJnp+x1iRkJCAAQMGYOvWrRg9ejQAORWwdetWTJ8+3dzBkSZCCDzyyCNYt24diouLkZWVZfaQDMNgH8UqKiowfPhwdO3aFX/6059QWVnpfi6WZorHjx/HuXPncPz4cbhcLuzbtw8A0L17d7Rs2dLcwek0e/ZsTJo0CQMHDsTgwYOxZMkSXLhwAQ8++KDZQzNEbW0tjh496v65tLQU+/btQ5s2bdClSxcTR2aMvLw8rFq1Chs2bEBycrL7WktqaioSExNNHl2IzC4HIt+WL18uAKjeYsmkSZNUf8eioiKzhxaUZcuWiS5duoiEhAQxePBgsWvXLrOHZJiioiLVv6tJkyaZPTRD+Pr3tnz5crOHFjK2OCYisgFrJICJiCgkDPZERDbAYE9EZAMM9kRENsBgT0RkAwz2REQ2wGBPRGQDDPZERDbAYE9EZAMM9kRENsBgT2SQyspKdOjQAQsWLHA/tnPnTiQkJGDr1q0mjowIYG8cIgN99NFHGD16NHbu3Inrr78e/fr1Q05ODhYtWmT20MjmGOyJDJaXl4ctW7Zg4MCBOHDgAD7//HM4HA6zh0U2x2BPZLCLFy+iT58+KC8vx549e3DDDTeYPSQi5uyJjHbs2DGcPHkSDQ0NKCsrM3s4RAA4sycyVH19PQYPHox+/frh+uuvx5IlS3DgwAG0a9fO7KGRzTHYExnoiSeewNq1a7F//360bNkSt99+O1JTU7Fx40azh0Y2xzQOkUGKi4uxZMkSvPPOO0hJSUFcXBzeeecd7NixA6+++qrZwyOb48yeiMgGOLMnIrIBBnsiIhtgsCcisgEGeyIiG2CwJyKyAQZ7IiIbYLAnIrIBBnsiIhtgsCcisgEGeyIiG2CwJyKyAQZ7IiIb+P9cMBWR6CyBrQAAAABJRU5ErkJggg==\n"
                },
                "metadata": {}
              }
            ]
          }
        },
        "e45d16dc3da947a7a1d28f04ee142322": {
          "model_module": "@jupyter-widgets/base",
          "model_name": "LayoutModel",
          "model_module_version": "1.2.0",
          "state": {
            "_model_module": "@jupyter-widgets/base",
            "_model_module_version": "1.2.0",
            "_model_name": "LayoutModel",
            "_view_count": null,
            "_view_module": "@jupyter-widgets/base",
            "_view_module_version": "1.2.0",
            "_view_name": "LayoutView",
            "align_content": null,
            "align_items": null,
            "align_self": null,
            "border": null,
            "bottom": null,
            "display": null,
            "flex": null,
            "flex_flow": null,
            "grid_area": null,
            "grid_auto_columns": null,
            "grid_auto_flow": null,
            "grid_auto_rows": null,
            "grid_column": null,
            "grid_gap": null,
            "grid_row": null,
            "grid_template_areas": null,
            "grid_template_columns": null,
            "grid_template_rows": null,
            "height": null,
            "justify_content": null,
            "justify_items": null,
            "left": null,
            "margin": null,
            "max_height": null,
            "max_width": null,
            "min_height": null,
            "min_width": null,
            "object_fit": null,
            "object_position": null,
            "order": null,
            "overflow": null,
            "overflow_x": null,
            "overflow_y": null,
            "padding": null,
            "right": null,
            "top": null,
            "visibility": null,
            "width": null
          }
        },
        "ab0ec63ffd874e929066ca924435e0ea": {
          "model_module": "@jupyter-widgets/base",
          "model_name": "LayoutModel",
          "model_module_version": "1.2.0",
          "state": {
            "_model_module": "@jupyter-widgets/base",
            "_model_module_version": "1.2.0",
            "_model_name": "LayoutModel",
            "_view_count": null,
            "_view_module": "@jupyter-widgets/base",
            "_view_module_version": "1.2.0",
            "_view_name": "LayoutView",
            "align_content": null,
            "align_items": null,
            "align_self": null,
            "border": null,
            "bottom": null,
            "display": null,
            "flex": null,
            "flex_flow": null,
            "grid_area": null,
            "grid_auto_columns": null,
            "grid_auto_flow": null,
            "grid_auto_rows": null,
            "grid_column": null,
            "grid_gap": null,
            "grid_row": null,
            "grid_template_areas": null,
            "grid_template_columns": null,
            "grid_template_rows": null,
            "height": null,
            "justify_content": null,
            "justify_items": null,
            "left": null,
            "margin": null,
            "max_height": null,
            "max_width": null,
            "min_height": null,
            "min_width": null,
            "object_fit": null,
            "object_position": null,
            "order": null,
            "overflow": null,
            "overflow_x": null,
            "overflow_y": null,
            "padding": null,
            "right": null,
            "top": null,
            "visibility": null,
            "width": null
          }
        },
        "659e40030f004e989fbfd87e88a3e749": {
          "model_module": "@jupyter-widgets/controls",
          "model_name": "SliderStyleModel",
          "model_module_version": "1.5.0",
          "state": {
            "_model_module": "@jupyter-widgets/controls",
            "_model_module_version": "1.5.0",
            "_model_name": "SliderStyleModel",
            "_view_count": null,
            "_view_module": "@jupyter-widgets/base",
            "_view_module_version": "1.2.0",
            "_view_name": "StyleView",
            "description_width": "",
            "handle_color": null
          }
        },
        "0c556776c04743e6b3560f9714b6c7c5": {
          "model_module": "@jupyter-widgets/base",
          "model_name": "LayoutModel",
          "model_module_version": "1.2.0",
          "state": {
            "_model_module": "@jupyter-widgets/base",
            "_model_module_version": "1.2.0",
            "_model_name": "LayoutModel",
            "_view_count": null,
            "_view_module": "@jupyter-widgets/base",
            "_view_module_version": "1.2.0",
            "_view_name": "LayoutView",
            "align_content": null,
            "align_items": null,
            "align_self": null,
            "border": null,
            "bottom": null,
            "display": null,
            "flex": null,
            "flex_flow": null,
            "grid_area": null,
            "grid_auto_columns": null,
            "grid_auto_flow": null,
            "grid_auto_rows": null,
            "grid_column": null,
            "grid_gap": null,
            "grid_row": null,
            "grid_template_areas": null,
            "grid_template_columns": null,
            "grid_template_rows": null,
            "height": null,
            "justify_content": null,
            "justify_items": null,
            "left": null,
            "margin": null,
            "max_height": null,
            "max_width": null,
            "min_height": null,
            "min_width": null,
            "object_fit": null,
            "object_position": null,
            "order": null,
            "overflow": null,
            "overflow_x": null,
            "overflow_y": null,
            "padding": null,
            "right": null,
            "top": null,
            "visibility": null,
            "width": null
          }
        },
        "0598a0c0d47845e0b1dddd52fe0d7aea": {
          "model_module": "@jupyter-widgets/controls",
          "model_name": "SliderStyleModel",
          "model_module_version": "1.5.0",
          "state": {
            "_model_module": "@jupyter-widgets/controls",
            "_model_module_version": "1.5.0",
            "_model_name": "SliderStyleModel",
            "_view_count": null,
            "_view_module": "@jupyter-widgets/base",
            "_view_module_version": "1.2.0",
            "_view_name": "StyleView",
            "description_width": "",
            "handle_color": null
          }
        },
        "48e62997a29a4d3a85ffc5a218e4121e": {
          "model_module": "@jupyter-widgets/base",
          "model_name": "LayoutModel",
          "model_module_version": "1.2.0",
          "state": {
            "_model_module": "@jupyter-widgets/base",
            "_model_module_version": "1.2.0",
            "_model_name": "LayoutModel",
            "_view_count": null,
            "_view_module": "@jupyter-widgets/base",
            "_view_module_version": "1.2.0",
            "_view_name": "LayoutView",
            "align_content": null,
            "align_items": null,
            "align_self": null,
            "border": null,
            "bottom": null,
            "display": null,
            "flex": null,
            "flex_flow": null,
            "grid_area": null,
            "grid_auto_columns": null,
            "grid_auto_flow": null,
            "grid_auto_rows": null,
            "grid_column": null,
            "grid_gap": null,
            "grid_row": null,
            "grid_template_areas": null,
            "grid_template_columns": null,
            "grid_template_rows": null,
            "height": null,
            "justify_content": null,
            "justify_items": null,
            "left": null,
            "margin": null,
            "max_height": null,
            "max_width": null,
            "min_height": null,
            "min_width": null,
            "object_fit": null,
            "object_position": null,
            "order": null,
            "overflow": null,
            "overflow_x": null,
            "overflow_y": null,
            "padding": null,
            "right": null,
            "top": null,
            "visibility": null,
            "width": null
          }
        },
        "ad81c0e35714455caf67b7f2f8cf358f": {
          "model_module": "@jupyter-widgets/controls",
          "model_name": "DescriptionStyleModel",
          "model_module_version": "1.5.0",
          "state": {
            "_model_module": "@jupyter-widgets/controls",
            "_model_module_version": "1.5.0",
            "_model_name": "DescriptionStyleModel",
            "_view_count": null,
            "_view_module": "@jupyter-widgets/base",
            "_view_module_version": "1.2.0",
            "_view_name": "StyleView",
            "description_width": ""
          }
        },
        "07df3cbb55964cf287e7d81252c8b402": {
          "model_module": "@jupyter-widgets/base",
          "model_name": "LayoutModel",
          "model_module_version": "1.2.0",
          "state": {
            "_model_module": "@jupyter-widgets/base",
            "_model_module_version": "1.2.0",
            "_model_name": "LayoutModel",
            "_view_count": null,
            "_view_module": "@jupyter-widgets/base",
            "_view_module_version": "1.2.0",
            "_view_name": "LayoutView",
            "align_content": null,
            "align_items": null,
            "align_self": null,
            "border": null,
            "bottom": null,
            "display": null,
            "flex": null,
            "flex_flow": null,
            "grid_area": null,
            "grid_auto_columns": null,
            "grid_auto_flow": null,
            "grid_auto_rows": null,
            "grid_column": null,
            "grid_gap": null,
            "grid_row": null,
            "grid_template_areas": null,
            "grid_template_columns": null,
            "grid_template_rows": null,
            "height": null,
            "justify_content": null,
            "justify_items": null,
            "left": null,
            "margin": null,
            "max_height": null,
            "max_width": null,
            "min_height": null,
            "min_width": null,
            "object_fit": null,
            "object_position": null,
            "order": null,
            "overflow": null,
            "overflow_x": null,
            "overflow_y": null,
            "padding": null,
            "right": null,
            "top": null,
            "visibility": null,
            "width": null
          }
        }
      }
    }
  },
  "nbformat": 4,
  "nbformat_minor": 0
}