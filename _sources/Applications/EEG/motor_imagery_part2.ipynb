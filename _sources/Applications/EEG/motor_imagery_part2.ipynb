{
  "nbformat": 4,
  "nbformat_minor": 0,
  "metadata": {
    "colab": {
      "provenance": []
    },
    "kernelspec": {
      "name": "python3",
      "display_name": "Python 3"
    },
    "language_info": {
      "name": "python"
    }
  },
  "cells": [
    {
      "cell_type": "markdown",
      "source": [
        "# Data Analysis\n",
        "\n",
        "ใน part ที่แล้วเราได้ลองดูตัวอย่างการสำรวจดูข้อมูลจาก 1 subject\n",
        "\n",
        "สมมติว่าเรามั่นใจแล้วว่าข้อมูลจากทุก subjects ไม่มีปัญหาอะไรร้ายแรง เราสามารถมาลองแก้โจทย์ motor imagery กันโดยใช้ข้อมูลจากหลาย subject มาพัฒนาโมเดล โดยเราจะให้โมเดลตอบให้ได้ว่า time signal แต่ละอัน เป็น event ประเภท hands หรือ event ประเภท feet"
      ],
      "metadata": {
        "id": "s0_F0ZNZXCmL"
      }
    },
    {
      "cell_type": "code",
      "source": [
        "!pip install mne"
      ],
      "metadata": {
        "colab": {
          "base_uri": "https://localhost:8080/"
        },
        "id": "-DKnNtwhXbyy",
        "outputId": "d8ab1278-9ea0-4cec-d240-14490a093f06"
      },
      "execution_count": 1,
      "outputs": [
        {
          "output_type": "stream",
          "name": "stdout",
          "text": [
            "Looking in indexes: https://pypi.org/simple, https://us-python.pkg.dev/colab-wheels/public/simple/\n",
            "Collecting mne\n",
            "  Downloading mne-1.4.0-py3-none-any.whl (7.7 MB)\n",
            "\u001b[2K     \u001b[90m━━━━━━━━━━━━━━━━━━━━━━━━━━━━━━━━━━━━━━━━\u001b[0m \u001b[32m7.7/7.7 MB\u001b[0m \u001b[31m22.1 MB/s\u001b[0m eta \u001b[36m0:00:00\u001b[0m\n",
            "\u001b[?25hRequirement already satisfied: numpy>=1.15.4 in /usr/local/lib/python3.10/dist-packages (from mne) (1.22.4)\n",
            "Requirement already satisfied: scipy>=1.6.3 in /usr/local/lib/python3.10/dist-packages (from mne) (1.10.1)\n",
            "Requirement already satisfied: matplotlib in /usr/local/lib/python3.10/dist-packages (from mne) (3.7.1)\n",
            "Requirement already satisfied: tqdm in /usr/local/lib/python3.10/dist-packages (from mne) (4.65.0)\n",
            "Requirement already satisfied: pooch>=1.5 in /usr/local/lib/python3.10/dist-packages (from mne) (1.6.0)\n",
            "Requirement already satisfied: decorator in /usr/local/lib/python3.10/dist-packages (from mne) (4.4.2)\n",
            "Requirement already satisfied: packaging in /usr/local/lib/python3.10/dist-packages (from mne) (23.1)\n",
            "Requirement already satisfied: jinja2 in /usr/local/lib/python3.10/dist-packages (from mne) (3.1.2)\n",
            "Requirement already satisfied: appdirs>=1.3.0 in /usr/local/lib/python3.10/dist-packages (from pooch>=1.5->mne) (1.4.4)\n",
            "Requirement already satisfied: requests>=2.19.0 in /usr/local/lib/python3.10/dist-packages (from pooch>=1.5->mne) (2.27.1)\n",
            "Requirement already satisfied: MarkupSafe>=2.0 in /usr/local/lib/python3.10/dist-packages (from jinja2->mne) (2.1.2)\n",
            "Requirement already satisfied: contourpy>=1.0.1 in /usr/local/lib/python3.10/dist-packages (from matplotlib->mne) (1.0.7)\n",
            "Requirement already satisfied: cycler>=0.10 in /usr/local/lib/python3.10/dist-packages (from matplotlib->mne) (0.11.0)\n",
            "Requirement already satisfied: fonttools>=4.22.0 in /usr/local/lib/python3.10/dist-packages (from matplotlib->mne) (4.39.3)\n",
            "Requirement already satisfied: kiwisolver>=1.0.1 in /usr/local/lib/python3.10/dist-packages (from matplotlib->mne) (1.4.4)\n",
            "Requirement already satisfied: pillow>=6.2.0 in /usr/local/lib/python3.10/dist-packages (from matplotlib->mne) (8.4.0)\n",
            "Requirement already satisfied: pyparsing>=2.3.1 in /usr/local/lib/python3.10/dist-packages (from matplotlib->mne) (3.0.9)\n",
            "Requirement already satisfied: python-dateutil>=2.7 in /usr/local/lib/python3.10/dist-packages (from matplotlib->mne) (2.8.2)\n",
            "Requirement already satisfied: six>=1.5 in /usr/local/lib/python3.10/dist-packages (from python-dateutil>=2.7->matplotlib->mne) (1.16.0)\n",
            "Requirement already satisfied: urllib3<1.27,>=1.21.1 in /usr/local/lib/python3.10/dist-packages (from requests>=2.19.0->pooch>=1.5->mne) (1.26.15)\n",
            "Requirement already satisfied: certifi>=2017.4.17 in /usr/local/lib/python3.10/dist-packages (from requests>=2.19.0->pooch>=1.5->mne) (2022.12.7)\n",
            "Requirement already satisfied: charset-normalizer~=2.0.0 in /usr/local/lib/python3.10/dist-packages (from requests>=2.19.0->pooch>=1.5->mne) (2.0.12)\n",
            "Requirement already satisfied: idna<4,>=2.5 in /usr/local/lib/python3.10/dist-packages (from requests>=2.19.0->pooch>=1.5->mne) (3.4)\n",
            "Installing collected packages: mne\n",
            "Successfully installed mne-1.4.0\n"
          ]
        }
      ]
    },
    {
      "cell_type": "code",
      "execution_count": 2,
      "metadata": {
        "id": "VSqS-2jTWBZK"
      },
      "outputs": [],
      "source": [
        "import pdb\n",
        "import numpy as np\n",
        "import matplotlib.pyplot as plt\n",
        "\n",
        "from sklearn.decomposition import PCA\n",
        "import matplotlib.pyplot as plt\n",
        "from matplotlib import colors\n",
        "\n",
        "\n",
        "from mne import Epochs, pick_types, events_from_annotations, find_events\n",
        "from mne.channels import make_standard_montage\n",
        "from mne.io import concatenate_raws, read_raw_edf\n",
        "from mne.datasets import eegbci"
      ]
    },
    {
      "cell_type": "markdown",
      "source": [
        "เราจะเอาคำสั่งสำหรับการ download ข้อมูลและ preprocess ข้อมูลจาก part ที่แล้วมารวมกันในฟังก์ชัน `download_one_subject`"
      ],
      "metadata": {
        "id": "9qxWCjtKLnyT"
      }
    },
    {
      "cell_type": "code",
      "source": [
        "# Download และ preprocess ข้อมูลจากอาสาสมัคร 1 คน\n",
        "def download_one_subject(subject_id):\n",
        "\n",
        "    # กำหนดค่าพารามิเตอร์สำหรับโหลดชุดข้อมูลที่เราสนใจ โดยมีรายละเอียดเพิ่มเติมจาก link นี้ https://mne.tools/stable/generated/mne.datasets.eegbci.load_data.html#mne.datasets.eegbci.load_data\n",
        "    tmin, tmax = -1.0, 4.0\n",
        "    subject = 1 # เลือก subject ที่เราสนใจ (ค่าตั้งแต่ 1 ถึง 109)\n",
        "    runs = [6, 10, 14]  # เลือกข้อมูล Motor imagery: hands vs feet \n",
        "\n",
        "    # ทำการโหลดข้อมูล ด้วยพารามิเตอร์ที่เรากำหนดไว้ด้านบน\n",
        "    raw_fnames = eegbci.load_data(subject, runs, verbose='WARNING')\n",
        "    raw = concatenate_raws([read_raw_edf(f, preload=True, verbose='WARNING') for f in raw_fnames])\n",
        "\n",
        "    eegbci.standardize(raw)  # set channel names\n",
        "    montage = make_standard_montage(\"standard_1005\")\n",
        "    raw.set_montage(montage)\n",
        "\n",
        "    # เลือกเฉพาะข้อมูล hands กับ feet\n",
        "    event_id = dict(hands=2, feet=3)\n",
        "\n",
        "    # Apply band-pass filter\n",
        "    raw.filter(7.0, 30.0, fir_design=\"firwin\", skip_by_annotation=\"edge\", verbose='WARNING')\n",
        "\n",
        "    # \n",
        "    hands_id = 2\n",
        "    feet_id = 3\n",
        "    events, _ = events_from_annotations(raw, event_id=dict(T1=hands_id, T2=feet_id), verbose='WARNING')\n",
        "    \n",
        "    # เลือกเก็บเฉพาะข้อมูล EEG และกำจัดข้อมูล electrode ที่มีปัญหา\n",
        "    picks = pick_types(raw.info, meg=False, eeg=True, stim=False, eog=False, exclude=\"bads\")\n",
        "\n",
        "    # Read epochs (train will be done only between 1 and 2s)\n",
        "    # Testing will be done with a running classifier\n",
        "    epochs = Epochs(\n",
        "        raw,\n",
        "        events,\n",
        "        event_id,\n",
        "        tmin,\n",
        "        tmax,\n",
        "        proj=True,\n",
        "        picks=picks,\n",
        "        baseline=None,\n",
        "        preload=True,\n",
        "        verbose='WARNING'\n",
        "    )\n",
        "    epochs_train = epochs.copy().crop(tmin=1.0, tmax=2.0)\n",
        "    labels = epochs.events[:, -1] - 2 # 0: hands, 1: feet\n",
        "\n",
        "    epochs_data = epochs.get_data()\n",
        "    epochs_data_truncated = epochs_train.get_data()\n",
        "\n",
        "    return epochs_data_truncated, labels\n"
      ],
      "metadata": {
        "id": "tdejTUnPXtDX"
      },
      "execution_count": 3,
      "outputs": []
    },
    {
      "cell_type": "markdown",
      "source": [
        "ทำการโหลดข้อมูลจากหลาย subjects มารวมกัน"
      ],
      "metadata": {
        "id": "VMKseRbmL3UZ"
      }
    },
    {
      "cell_type": "code",
      "source": [
        "# ระบุจำนวนอาสาสมัคร (subjects) ที่เราต้องการ\n",
        "num_subjects = 25\n",
        "\n",
        "data = []\n",
        "labels = []\n",
        "\n",
        "for idx_subj in range(num_subjects):\n",
        "\n",
        "    # Download ข้อมูลทีละ subject\n",
        "    curr_data, curr_labels = download_one_subject(subject_id=1)\n",
        "\n",
        "    # นำเอาข้อมูลที่ download มารวมกัน\n",
        "    data.append(curr_data)\n",
        "    labels.append(curr_labels)\n",
        "\n",
        "    # print แสดง progress\n",
        "    print(f\"Done: {idx_subj+1}/{num_subjects}\")\n",
        "\n",
        "# แปลงข้อมูลให้เป็น numpy array\n",
        "data = np.asarray(data)\n",
        "labels = np.asarray(labels)"
      ],
      "metadata": {
        "colab": {
          "base_uri": "https://localhost:8080/"
        },
        "id": "jD0oe-Koh5_7",
        "outputId": "04fe53bc-968c-4853-b271-b46e335ebe1e"
      },
      "execution_count": 5,
      "outputs": [
        {
          "output_type": "stream",
          "name": "stdout",
          "text": [
            "Done: 1/25\n",
            "Done: 2/25\n",
            "Done: 3/25\n",
            "Done: 4/25\n",
            "Done: 5/25\n",
            "Done: 6/25\n",
            "Done: 7/25\n",
            "Done: 8/25\n",
            "Done: 9/25\n",
            "Done: 10/25\n",
            "Done: 11/25\n",
            "Done: 12/25\n",
            "Done: 13/25\n",
            "Done: 14/25\n",
            "Done: 15/25\n",
            "Done: 16/25\n",
            "Done: 17/25\n",
            "Done: 18/25\n",
            "Done: 19/25\n",
            "Done: 20/25\n",
            "Done: 21/25\n",
            "Done: 22/25\n",
            "Done: 23/25\n",
            "Done: 24/25\n",
            "Done: 25/25\n"
          ]
        }
      ]
    },
    {
      "cell_type": "markdown",
      "source": [
        "ลองดูข้อมูลที่เราโหลดมาว่ามีจำนวนมิติเป็นอย่างไร"
      ],
      "metadata": {
        "id": "rFF6wkcfMS7L"
      }
    },
    {
      "cell_type": "code",
      "source": [
        "print(f\"Data shape (# subjects, # trials, # electrodes, # time points): {data.shape}\")\n",
        "print(f\"Labels (# subjects, # trials): {labels.shape}\")\n",
        "print(f\"Available labels: {set(np.reshape(labels, (-1, )))}\")\n",
        "\n",
        "num_subjects, num_trials, num_electrodes, num_time_pts = data.shape"
      ],
      "metadata": {
        "colab": {
          "base_uri": "https://localhost:8080/"
        },
        "id": "Pg6wSLecgSJ6",
        "outputId": "23021a7a-4ff5-4f83-b0c9-1ad14bca93a3"
      },
      "execution_count": 6,
      "outputs": [
        {
          "output_type": "stream",
          "name": "stdout",
          "text": [
            "Data shape (# subjects, # trials, # electrodes, # time points): (25, 45, 64, 161)\n",
            "Labels (# subjects, # trials): (25, 45)\n",
            "Available labels: {0, 1}\n"
          ]
        }
      ]
    },
    {
      "cell_type": "markdown",
      "source": [
        "เราลองเอา time signal จากทุก electrode มาต่อกันยาว ๆ และใช้แต่ละจุดเป็น feature ไปผ่าน PCA ดูกันดีกว่า"
      ],
      "metadata": {
        "id": "tTvWjurmNKsE"
      }
    },
    {
      "cell_type": "code",
      "source": [
        "data_flatten = np.reshape(data, (num_subjects*num_trials, num_electrodes*num_time_pts))\n",
        "print(f\"Vectorized data (# samples, # features): {data_flatten.shape} \")"
      ],
      "metadata": {
        "colab": {
          "base_uri": "https://localhost:8080/"
        },
        "id": "V2ZDj_hxqXTO",
        "outputId": "7745b334-fd62-4e4c-9266-b8643dc9c146"
      },
      "execution_count": 7,
      "outputs": [
        {
          "output_type": "stream",
          "name": "stdout",
          "text": [
            "Vectorized data (# samples, # features): (1125, 10304) \n"
          ]
        }
      ]
    },
    {
      "cell_type": "code",
      "source": [
        "# สร้าง PCA\n",
        "model_PCA = PCA(n_components=3, whiten=True)\n",
        "data_PCA = model_PCA.fit_transform(data_flatten)\n",
        "\n",
        "print(f\"% variance captured by PC1 = {model_PCA.explained_variance_ratio_[0]*100: 0.2f}\")\n",
        "print(f\"% variance captured by PC2 = {model_PCA.explained_variance_ratio_[1]*100: 0.2f}\")\n",
        "\n",
        "# กำหนดสีให้แต่ละ class โดยใช้สีน้ำเงินพูแสดง class 0 (hands) และสีเขียวแสดง class 1 (feet)\n",
        "custom_cmap = colors.ListedColormap([\"blue\",\"green\"]) \n",
        "\n",
        "plt.figure()\n",
        "plt.scatter(data_PCA[:,0], data_PCA[:,1], c=labels, cmap=custom_cmap)\n",
        "plt.colorbar(boundaries=np.arange(3)-0.5).set_ticks(np.arange(2), labels=['hands', 'feet'])\n",
        "plt.xlabel('PC1 score')\n",
        "plt.ylabel('PC2 score')\n",
        "\n",
        "plt.figure()\n",
        "plt.scatter(data_PCA[:,0], data_PCA[:,2], c=labels, cmap=custom_cmap)\n",
        "plt.colorbar(boundaries=np.arange(3)-0.5).set_ticks(np.arange(2), labels=['hands', 'feet'])\n",
        "plt.xlabel('PC1 score')\n",
        "plt.ylabel('PC3 score')\n",
        "\n",
        "plt.figure()\n",
        "plt.scatter(data_PCA[:,1], data_PCA[:,2], c=labels, cmap=custom_cmap)\n",
        "plt.colorbar(boundaries=np.arange(3)-0.5).set_ticks(np.arange(2), labels=['hands', 'feet'])\n",
        "plt.xlabel('PC2 score')\n",
        "plt.ylabel('PC3 score')\n",
        "plt.show()"
      ],
      "metadata": {
        "colab": {
          "base_uri": "https://localhost:8080/",
          "height": 1000
        },
        "id": "io2_MrZZrm1P",
        "outputId": "ebd42d4e-1356-43fd-ac8d-09ad18f839b3"
      },
      "execution_count": 11,
      "outputs": [
        {
          "output_type": "stream",
          "name": "stdout",
          "text": [
            "% variance captured by PC1 =  13.72\n",
            "% variance captured by PC2 =  6.29\n"
          ]
        },
        {
          "output_type": "display_data",
          "data": {
            "text/plain": [
              "<Figure size 640x480 with 2 Axes>"
            ],
            "image/png": "[encoded data removed]"
          },
          "metadata": {}
        },
        {
          "output_type": "display_data",
          "data": {
            "text/plain": [
              "<Figure size 640x480 with 2 Axes>"
            ],
            "image/png": "[encoded data removed]"
          },
          "metadata": {}
        },
        {
          "output_type": "display_data",
          "data": {
            "text/plain": [
              "<Figure size 640x480 with 2 Axes>"
            ],
            "image/png": "[encoded data removed]"
          },
          "metadata": {}
        }
      ]
    },
    {
      "cell_type": "markdown",
      "source": [
        "ด้วยเทคนิค PCA ซึ่งเป็นเทคนิคแบบ linear ที่ไม่ได้ใช้ประโยชน์จาก labels (ผลเฉลยว่าข้อมูลไหนเป็น class ใด) จะเห็นว่าข้อมูลไม่กระจายตัวออกจากกัน"
      ],
      "metadata": {
        "id": "_rLA5_DSNzKv"
      }
    },
    {
      "cell_type": "code",
      "source": [],
      "metadata": {
        "id": "UzVyrP-ssOp1"
      },
      "execution_count": null,
      "outputs": []
    }
  ]
}